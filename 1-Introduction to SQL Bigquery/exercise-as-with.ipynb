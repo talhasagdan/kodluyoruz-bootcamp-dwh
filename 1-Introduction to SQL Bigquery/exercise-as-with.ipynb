{
 "cells": [
  {
   "cell_type": "markdown",
   "metadata": {
    "papermill": {
     "duration": 0.016901,
     "end_time": "2020-12-19T07:23:56.779069",
     "exception": false,
     "start_time": "2020-12-19T07:23:56.762168",
     "status": "completed"
    },
    "tags": []
   },
   "source": [
    "**This notebook is an exercise in the [SQL](https://www.kaggle.com/learn/intro-to-sql) course.  You can reference the tutorial at [this link](https://www.kaggle.com/dansbecker/as-with).**\n",
    "\n",
    "---\n"
   ]
  },
  {
   "cell_type": "markdown",
   "metadata": {
    "papermill": {
     "duration": 0.015708,
     "end_time": "2020-12-19T07:23:56.810995",
     "exception": false,
     "start_time": "2020-12-19T07:23:56.795287",
     "status": "completed"
    },
    "tags": []
   },
   "source": [
    "# Introduction\n",
    "\n",
    "You are getting to the point where you can own an analysis from beginning to end. So you'll do more data exploration in this exercise than you've done before.  Before you get started, run the following set-up code as usual. "
   ]
  },
  {
   "cell_type": "code",
   "execution_count": 1,
   "metadata": {
    "execution": {
     "iopub.execute_input": "2020-12-19T07:23:56.847289Z",
     "iopub.status.busy": "2020-12-19T07:23:56.846273Z",
     "iopub.status.idle": "2020-12-19T07:24:03.149862Z",
     "shell.execute_reply": "2020-12-19T07:24:03.150440Z"
    },
    "papermill": {
     "duration": 6.323538,
     "end_time": "2020-12-19T07:24:03.150628",
     "exception": false,
     "start_time": "2020-12-19T07:23:56.827090",
     "status": "completed"
    },
    "tags": []
   },
   "outputs": [
    {
     "name": "stdout",
     "output_type": "stream",
     "text": [
      "Using Kaggle's public dataset BigQuery integration.\n",
      "Setup Complete\n"
     ]
    }
   ],
   "source": [
    "# Set up feedback system\n",
    "from learntools.core import binder\n",
    "binder.bind(globals())\n",
    "from learntools.sql.ex5 import *\n",
    "print(\"Setup Complete\")"
   ]
  },
  {
   "cell_type": "markdown",
   "metadata": {
    "papermill": {
     "duration": 0.018486,
     "end_time": "2020-12-19T07:24:03.189366",
     "exception": false,
     "start_time": "2020-12-19T07:24:03.170880",
     "status": "completed"
    },
    "tags": []
   },
   "source": [
    "You'll work with a dataset about taxi trips in the city of Chicago. Run the cell below to fetch the `chicago_taxi_trips` dataset."
   ]
  },
  {
   "cell_type": "code",
   "execution_count": 2,
   "metadata": {
    "execution": {
     "iopub.execute_input": "2020-12-19T07:24:03.229283Z",
     "iopub.status.busy": "2020-12-19T07:24:03.228277Z",
     "iopub.status.idle": "2020-12-19T07:24:04.500523Z",
     "shell.execute_reply": "2020-12-19T07:24:04.501033Z"
    },
    "papermill": {
     "duration": 1.292641,
     "end_time": "2020-12-19T07:24:04.501188",
     "exception": false,
     "start_time": "2020-12-19T07:24:03.208547",
     "status": "completed"
    },
    "tags": []
   },
   "outputs": [
    {
     "name": "stdout",
     "output_type": "stream",
     "text": [
      "Using Kaggle's public dataset BigQuery integration.\n"
     ]
    }
   ],
   "source": [
    "from google.cloud import bigquery\n",
    "\n",
    "# Create a \"Client\" object\n",
    "client = bigquery.Client()\n",
    "\n",
    "# Construct a reference to the \"chicago_taxi_trips\" dataset\n",
    "dataset_ref = client.dataset(\"chicago_taxi_trips\", project=\"bigquery-public-data\")\n",
    "\n",
    "# API request - fetch the dataset\n",
    "dataset = client.get_dataset(dataset_ref)"
   ]
  },
  {
   "cell_type": "markdown",
   "metadata": {
    "papermill": {
     "duration": 0.016974,
     "end_time": "2020-12-19T07:24:04.535524",
     "exception": false,
     "start_time": "2020-12-19T07:24:04.518550",
     "status": "completed"
    },
    "tags": []
   },
   "source": [
    "# Exercises\n",
    "\n",
    "You are curious how much slower traffic moves when traffic volume is high. This involves a few steps.\n",
    "\n",
    "### 1) Find the data\n",
    "Before you can access the data, you need to find the table name with the data.\n",
    "\n",
    "*Hint*: Tab completion is helpful whenever you can't remember a command. Type `client.` and then hit the tab key. Don't forget the period before hitting tab."
   ]
  },
  {
   "cell_type": "code",
   "execution_count": 3,
   "metadata": {
    "execution": {
     "iopub.execute_input": "2020-12-19T07:24:04.574541Z",
     "iopub.status.busy": "2020-12-19T07:24:04.573512Z",
     "iopub.status.idle": "2020-12-19T07:24:05.322484Z",
     "shell.execute_reply": "2020-12-19T07:24:05.322996Z"
    },
    "papermill": {
     "duration": 0.770051,
     "end_time": "2020-12-19T07:24:05.323149",
     "exception": false,
     "start_time": "2020-12-19T07:24:04.553098",
     "status": "completed"
    },
    "tags": []
   },
   "outputs": [],
   "source": [
    "# Your code here to find the table name\n",
    "\n",
    "tables = list(client.list_tables(dataset))\n",
    "for table in tables:  \n",
    "    table_name=table.table_id\n"
   ]
  },
  {
   "cell_type": "code",
   "execution_count": 4,
   "metadata": {
    "execution": {
     "iopub.execute_input": "2020-12-19T07:24:05.361687Z",
     "iopub.status.busy": "2020-12-19T07:24:05.360708Z",
     "iopub.status.idle": "2020-12-19T07:24:05.369241Z",
     "shell.execute_reply": "2020-12-19T07:24:05.369822Z"
    },
    "papermill": {
     "duration": 0.029351,
     "end_time": "2020-12-19T07:24:05.369962",
     "exception": false,
     "start_time": "2020-12-19T07:24:05.340611",
     "status": "completed"
    },
    "tags": []
   },
   "outputs": [
    {
     "data": {
      "application/javascript": [
       "parent.postMessage({\"jupyterEvent\": \"custom.exercise_interaction\", \"data\": {\"outcomeType\": 1, \"valueTowardsCompletion\": 0.16666666666666666, \"interactionType\": 1, \"questionType\": 1, \"questionId\": \"1_GetTableName\", \"learnToolsVersion\": \"0.3.4\", \"failureMessage\": \"\", \"exceptionClass\": \"\", \"trace\": \"\"}}, \"*\")"
      ],
      "text/plain": [
       "<IPython.core.display.Javascript object>"
      ]
     },
     "metadata": {},
     "output_type": "display_data"
    },
    {
     "data": {
      "text/markdown": [
       "<span style=\"color:#33cc33\">Correct</span>"
      ],
      "text/plain": [
       "Correct"
      ]
     },
     "metadata": {},
     "output_type": "display_data"
    }
   ],
   "source": [
    "# Write the table name as a string below\n",
    "#table_name = ____\n",
    "\n",
    "# Check your answer\n",
    "q_1.check()"
   ]
  },
  {
   "cell_type": "markdown",
   "metadata": {
    "papermill": {
     "duration": 0.018159,
     "end_time": "2020-12-19T07:24:05.406686",
     "exception": false,
     "start_time": "2020-12-19T07:24:05.388527",
     "status": "completed"
    },
    "tags": []
   },
   "source": [
    "For the solution, uncomment the line below."
   ]
  },
  {
   "cell_type": "code",
   "execution_count": 5,
   "metadata": {
    "execution": {
     "iopub.execute_input": "2020-12-19T07:24:05.447923Z",
     "iopub.status.busy": "2020-12-19T07:24:05.446980Z",
     "iopub.status.idle": "2020-12-19T07:24:05.451215Z",
     "shell.execute_reply": "2020-12-19T07:24:05.451731Z"
    },
    "papermill": {
     "duration": 0.026602,
     "end_time": "2020-12-19T07:24:05.451882",
     "exception": false,
     "start_time": "2020-12-19T07:24:05.425280",
     "status": "completed"
    },
    "tags": []
   },
   "outputs": [],
   "source": [
    "#q_1.solution()"
   ]
  },
  {
   "cell_type": "markdown",
   "metadata": {
    "papermill": {
     "duration": 0.018353,
     "end_time": "2020-12-19T07:24:05.488986",
     "exception": false,
     "start_time": "2020-12-19T07:24:05.470633",
     "status": "completed"
    },
    "tags": []
   },
   "source": [
    "### 2) Peek at the data\n",
    "\n",
    "Use the next code cell to peek at the top few rows of the data. Inspect the data and see if any issues with data quality are immediately obvious. "
   ]
  },
  {
   "cell_type": "code",
   "execution_count": 6,
   "metadata": {
    "execution": {
     "iopub.execute_input": "2020-12-19T07:24:05.533473Z",
     "iopub.status.busy": "2020-12-19T07:24:05.532824Z",
     "iopub.status.idle": "2020-12-19T07:24:07.306430Z",
     "shell.execute_reply": "2020-12-19T07:24:07.305855Z"
    },
    "papermill": {
     "duration": 1.798997,
     "end_time": "2020-12-19T07:24:07.306545",
     "exception": false,
     "start_time": "2020-12-19T07:24:05.507548",
     "status": "completed"
    },
    "tags": []
   },
   "outputs": [
    {
     "data": {
      "text/html": [
       "<div>\n",
       "<style scoped>\n",
       "    .dataframe tbody tr th:only-of-type {\n",
       "        vertical-align: middle;\n",
       "    }\n",
       "\n",
       "    .dataframe tbody tr th {\n",
       "        vertical-align: top;\n",
       "    }\n",
       "\n",
       "    .dataframe thead th {\n",
       "        text-align: right;\n",
       "    }\n",
       "</style>\n",
       "<table border=\"1\" class=\"dataframe\">\n",
       "  <thead>\n",
       "    <tr style=\"text-align: right;\">\n",
       "      <th></th>\n",
       "      <th>unique_key</th>\n",
       "      <th>taxi_id</th>\n",
       "      <th>trip_start_timestamp</th>\n",
       "      <th>trip_end_timestamp</th>\n",
       "      <th>trip_seconds</th>\n",
       "      <th>trip_miles</th>\n",
       "      <th>pickup_census_tract</th>\n",
       "      <th>dropoff_census_tract</th>\n",
       "      <th>pickup_community_area</th>\n",
       "      <th>dropoff_community_area</th>\n",
       "      <th>...</th>\n",
       "      <th>extras</th>\n",
       "      <th>trip_total</th>\n",
       "      <th>payment_type</th>\n",
       "      <th>company</th>\n",
       "      <th>pickup_latitude</th>\n",
       "      <th>pickup_longitude</th>\n",
       "      <th>pickup_location</th>\n",
       "      <th>dropoff_latitude</th>\n",
       "      <th>dropoff_longitude</th>\n",
       "      <th>dropoff_location</th>\n",
       "    </tr>\n",
       "  </thead>\n",
       "  <tbody>\n",
       "    <tr>\n",
       "      <th>0</th>\n",
       "      <td>285fad7a53021661527cb357220f76c30e605770</td>\n",
       "      <td>455b6b5cae6ca5a17cddd251485f2266d13d6a2c92f07c...</td>\n",
       "      <td>2013-08-02 10:15:00+00:00</td>\n",
       "      <td>2013-08-02 10:30:00+00:00</td>\n",
       "      <td>840</td>\n",
       "      <td>3.40</td>\n",
       "      <td>None</td>\n",
       "      <td>None</td>\n",
       "      <td>14</td>\n",
       "      <td>None</td>\n",
       "      <td>...</td>\n",
       "      <td>0.0</td>\n",
       "      <td>11.05</td>\n",
       "      <td>Cash</td>\n",
       "      <td>None</td>\n",
       "      <td>41.968069</td>\n",
       "      <td>-87.721559</td>\n",
       "      <td>POINT (-87.7215590627 41.968069)</td>\n",
       "      <td>None</td>\n",
       "      <td>None</td>\n",
       "      <td>None</td>\n",
       "    </tr>\n",
       "    <tr>\n",
       "      <th>1</th>\n",
       "      <td>2ab4bdd9622c2b80ea5585b0a6eb42db798ece85</td>\n",
       "      <td>8c1af0983bb43246ff0afee514decca8c8a1e5295b7937...</td>\n",
       "      <td>2013-07-18 13:00:00+00:00</td>\n",
       "      <td>2013-07-18 13:30:00+00:00</td>\n",
       "      <td>1080</td>\n",
       "      <td>0.89</td>\n",
       "      <td>None</td>\n",
       "      <td>None</td>\n",
       "      <td>14</td>\n",
       "      <td>None</td>\n",
       "      <td>...</td>\n",
       "      <td>1.0</td>\n",
       "      <td>25.98</td>\n",
       "      <td>Credit Card</td>\n",
       "      <td>None</td>\n",
       "      <td>41.968069</td>\n",
       "      <td>-87.721559</td>\n",
       "      <td>POINT (-87.7215590627 41.968069)</td>\n",
       "      <td>None</td>\n",
       "      <td>None</td>\n",
       "      <td>None</td>\n",
       "    </tr>\n",
       "    <tr>\n",
       "      <th>2</th>\n",
       "      <td>60b8903925da004bec6977459b2df831d41aad41</td>\n",
       "      <td>44c4d610e9975f12e4667a42761f382ad05400f7198ece...</td>\n",
       "      <td>2013-08-19 18:00:00+00:00</td>\n",
       "      <td>2013-08-19 18:30:00+00:00</td>\n",
       "      <td>1920</td>\n",
       "      <td>7.40</td>\n",
       "      <td>None</td>\n",
       "      <td>None</td>\n",
       "      <td>14</td>\n",
       "      <td>None</td>\n",
       "      <td>...</td>\n",
       "      <td>6.5</td>\n",
       "      <td>32.58</td>\n",
       "      <td>Credit Card</td>\n",
       "      <td>None</td>\n",
       "      <td>41.968069</td>\n",
       "      <td>-87.721559</td>\n",
       "      <td>POINT (-87.7215590627 41.968069)</td>\n",
       "      <td>None</td>\n",
       "      <td>None</td>\n",
       "      <td>None</td>\n",
       "    </tr>\n",
       "    <tr>\n",
       "      <th>3</th>\n",
       "      <td>bc3dd1dda74873c287976a32ec81cee886559a10</td>\n",
       "      <td>b1931345de471dbddb452f82e7d09ba6046580412b1501...</td>\n",
       "      <td>2013-08-21 21:45:00+00:00</td>\n",
       "      <td>2013-08-21 22:00:00+00:00</td>\n",
       "      <td>840</td>\n",
       "      <td>4.00</td>\n",
       "      <td>None</td>\n",
       "      <td>None</td>\n",
       "      <td>14</td>\n",
       "      <td>None</td>\n",
       "      <td>...</td>\n",
       "      <td>0.0</td>\n",
       "      <td>12.05</td>\n",
       "      <td>Cash</td>\n",
       "      <td>None</td>\n",
       "      <td>41.968069</td>\n",
       "      <td>-87.721559</td>\n",
       "      <td>POINT (-87.7215590627 41.968069)</td>\n",
       "      <td>None</td>\n",
       "      <td>None</td>\n",
       "      <td>None</td>\n",
       "    </tr>\n",
       "    <tr>\n",
       "      <th>4</th>\n",
       "      <td>3f93acd82011e28d93be17e6ea9771e744447fe2</td>\n",
       "      <td>1d8661cf286a18a5105e132056c2aadf0b81a551e440fe...</td>\n",
       "      <td>2013-08-27 21:30:00+00:00</td>\n",
       "      <td>2013-08-27 22:30:00+00:00</td>\n",
       "      <td>3600</td>\n",
       "      <td>24.20</td>\n",
       "      <td>None</td>\n",
       "      <td>None</td>\n",
       "      <td>14</td>\n",
       "      <td>None</td>\n",
       "      <td>...</td>\n",
       "      <td>1.0</td>\n",
       "      <td>53.25</td>\n",
       "      <td>Cash</td>\n",
       "      <td>None</td>\n",
       "      <td>41.968069</td>\n",
       "      <td>-87.721559</td>\n",
       "      <td>POINT (-87.7215590627 41.968069)</td>\n",
       "      <td>None</td>\n",
       "      <td>None</td>\n",
       "      <td>None</td>\n",
       "    </tr>\n",
       "    <tr>\n",
       "      <th>5</th>\n",
       "      <td>70891199dc9228873bb062b31baf07b292ea23b6</td>\n",
       "      <td>37f6a145435a3b1451354f62e633199078c92bd2cc7f46...</td>\n",
       "      <td>2013-08-17 08:15:00+00:00</td>\n",
       "      <td>2013-08-17 08:30:00+00:00</td>\n",
       "      <td>900</td>\n",
       "      <td>4.70</td>\n",
       "      <td>None</td>\n",
       "      <td>None</td>\n",
       "      <td>14</td>\n",
       "      <td>None</td>\n",
       "      <td>...</td>\n",
       "      <td>0.0</td>\n",
       "      <td>12.85</td>\n",
       "      <td>Cash</td>\n",
       "      <td>None</td>\n",
       "      <td>41.968069</td>\n",
       "      <td>-87.721559</td>\n",
       "      <td>POINT (-87.7215590627 41.968069)</td>\n",
       "      <td>None</td>\n",
       "      <td>None</td>\n",
       "      <td>None</td>\n",
       "    </tr>\n",
       "    <tr>\n",
       "      <th>6</th>\n",
       "      <td>fe4d38d597f626b4176e8bcc809eb05f1b93ecb9</td>\n",
       "      <td>1d8661cf286a18a5105e132056c2aadf0b81a551e440fe...</td>\n",
       "      <td>2013-08-24 12:00:00+00:00</td>\n",
       "      <td>2013-08-24 13:45:00+00:00</td>\n",
       "      <td>6360</td>\n",
       "      <td>12.60</td>\n",
       "      <td>None</td>\n",
       "      <td>None</td>\n",
       "      <td>14</td>\n",
       "      <td>None</td>\n",
       "      <td>...</td>\n",
       "      <td>0.0</td>\n",
       "      <td>52.05</td>\n",
       "      <td>Cash</td>\n",
       "      <td>None</td>\n",
       "      <td>41.968069</td>\n",
       "      <td>-87.721559</td>\n",
       "      <td>POINT (-87.7215590627 41.968069)</td>\n",
       "      <td>None</td>\n",
       "      <td>None</td>\n",
       "      <td>None</td>\n",
       "    </tr>\n",
       "    <tr>\n",
       "      <th>7</th>\n",
       "      <td>b8c1e4fa80e6fc92a2776fc79d74a14923de2850</td>\n",
       "      <td>60ee73db6313892e9fb80150895f1036b4a82eca1b8869...</td>\n",
       "      <td>2013-09-09 15:00:00+00:00</td>\n",
       "      <td>2013-09-09 15:15:00+00:00</td>\n",
       "      <td>1320</td>\n",
       "      <td>4.60</td>\n",
       "      <td>None</td>\n",
       "      <td>None</td>\n",
       "      <td>14</td>\n",
       "      <td>None</td>\n",
       "      <td>...</td>\n",
       "      <td>0.0</td>\n",
       "      <td>14.45</td>\n",
       "      <td>Cash</td>\n",
       "      <td>None</td>\n",
       "      <td>41.968069</td>\n",
       "      <td>-87.721559</td>\n",
       "      <td>POINT (-87.7215590627 41.968069)</td>\n",
       "      <td>None</td>\n",
       "      <td>None</td>\n",
       "      <td>None</td>\n",
       "    </tr>\n",
       "    <tr>\n",
       "      <th>8</th>\n",
       "      <td>94cb8f8ef4bce402b8d59ffc93c98e27969a2d25</td>\n",
       "      <td>51eb9c5081818ea85d83b697330fe44178c6e3031c85e6...</td>\n",
       "      <td>2013-08-26 16:15:00+00:00</td>\n",
       "      <td>2013-08-26 16:30:00+00:00</td>\n",
       "      <td>1500</td>\n",
       "      <td>5.30</td>\n",
       "      <td>None</td>\n",
       "      <td>None</td>\n",
       "      <td>14</td>\n",
       "      <td>None</td>\n",
       "      <td>...</td>\n",
       "      <td>0.0</td>\n",
       "      <td>16.45</td>\n",
       "      <td>Cash</td>\n",
       "      <td>None</td>\n",
       "      <td>41.968069</td>\n",
       "      <td>-87.721559</td>\n",
       "      <td>POINT (-87.7215590627 41.968069)</td>\n",
       "      <td>None</td>\n",
       "      <td>None</td>\n",
       "      <td>None</td>\n",
       "    </tr>\n",
       "    <tr>\n",
       "      <th>9</th>\n",
       "      <td>f45797efb115972feca203abf54af62ebc19568b</td>\n",
       "      <td>193f49f2e6f3c31a0058bb26e322f818043e6d64ff80a9...</td>\n",
       "      <td>2013-08-20 11:00:00+00:00</td>\n",
       "      <td>2013-08-20 11:15:00+00:00</td>\n",
       "      <td>480</td>\n",
       "      <td>2.20</td>\n",
       "      <td>None</td>\n",
       "      <td>None</td>\n",
       "      <td>14</td>\n",
       "      <td>None</td>\n",
       "      <td>...</td>\n",
       "      <td>0.0</td>\n",
       "      <td>8.85</td>\n",
       "      <td>Credit Card</td>\n",
       "      <td>None</td>\n",
       "      <td>41.968069</td>\n",
       "      <td>-87.721559</td>\n",
       "      <td>POINT (-87.7215590627 41.968069)</td>\n",
       "      <td>None</td>\n",
       "      <td>None</td>\n",
       "      <td>None</td>\n",
       "    </tr>\n",
       "  </tbody>\n",
       "</table>\n",
       "<p>10 rows × 23 columns</p>\n",
       "</div>"
      ],
      "text/plain": [
       "                                 unique_key  \\\n",
       "0  285fad7a53021661527cb357220f76c30e605770   \n",
       "1  2ab4bdd9622c2b80ea5585b0a6eb42db798ece85   \n",
       "2  60b8903925da004bec6977459b2df831d41aad41   \n",
       "3  bc3dd1dda74873c287976a32ec81cee886559a10   \n",
       "4  3f93acd82011e28d93be17e6ea9771e744447fe2   \n",
       "5  70891199dc9228873bb062b31baf07b292ea23b6   \n",
       "6  fe4d38d597f626b4176e8bcc809eb05f1b93ecb9   \n",
       "7  b8c1e4fa80e6fc92a2776fc79d74a14923de2850   \n",
       "8  94cb8f8ef4bce402b8d59ffc93c98e27969a2d25   \n",
       "9  f45797efb115972feca203abf54af62ebc19568b   \n",
       "\n",
       "                                             taxi_id  \\\n",
       "0  455b6b5cae6ca5a17cddd251485f2266d13d6a2c92f07c...   \n",
       "1  8c1af0983bb43246ff0afee514decca8c8a1e5295b7937...   \n",
       "2  44c4d610e9975f12e4667a42761f382ad05400f7198ece...   \n",
       "3  b1931345de471dbddb452f82e7d09ba6046580412b1501...   \n",
       "4  1d8661cf286a18a5105e132056c2aadf0b81a551e440fe...   \n",
       "5  37f6a145435a3b1451354f62e633199078c92bd2cc7f46...   \n",
       "6  1d8661cf286a18a5105e132056c2aadf0b81a551e440fe...   \n",
       "7  60ee73db6313892e9fb80150895f1036b4a82eca1b8869...   \n",
       "8  51eb9c5081818ea85d83b697330fe44178c6e3031c85e6...   \n",
       "9  193f49f2e6f3c31a0058bb26e322f818043e6d64ff80a9...   \n",
       "\n",
       "       trip_start_timestamp        trip_end_timestamp  trip_seconds  \\\n",
       "0 2013-08-02 10:15:00+00:00 2013-08-02 10:30:00+00:00           840   \n",
       "1 2013-07-18 13:00:00+00:00 2013-07-18 13:30:00+00:00          1080   \n",
       "2 2013-08-19 18:00:00+00:00 2013-08-19 18:30:00+00:00          1920   \n",
       "3 2013-08-21 21:45:00+00:00 2013-08-21 22:00:00+00:00           840   \n",
       "4 2013-08-27 21:30:00+00:00 2013-08-27 22:30:00+00:00          3600   \n",
       "5 2013-08-17 08:15:00+00:00 2013-08-17 08:30:00+00:00           900   \n",
       "6 2013-08-24 12:00:00+00:00 2013-08-24 13:45:00+00:00          6360   \n",
       "7 2013-09-09 15:00:00+00:00 2013-09-09 15:15:00+00:00          1320   \n",
       "8 2013-08-26 16:15:00+00:00 2013-08-26 16:30:00+00:00          1500   \n",
       "9 2013-08-20 11:00:00+00:00 2013-08-20 11:15:00+00:00           480   \n",
       "\n",
       "   trip_miles pickup_census_tract dropoff_census_tract  pickup_community_area  \\\n",
       "0        3.40                None                 None                     14   \n",
       "1        0.89                None                 None                     14   \n",
       "2        7.40                None                 None                     14   \n",
       "3        4.00                None                 None                     14   \n",
       "4       24.20                None                 None                     14   \n",
       "5        4.70                None                 None                     14   \n",
       "6       12.60                None                 None                     14   \n",
       "7        4.60                None                 None                     14   \n",
       "8        5.30                None                 None                     14   \n",
       "9        2.20                None                 None                     14   \n",
       "\n",
       "  dropoff_community_area  ...  extras  trip_total  payment_type  company  \\\n",
       "0                   None  ...     0.0       11.05          Cash     None   \n",
       "1                   None  ...     1.0       25.98   Credit Card     None   \n",
       "2                   None  ...     6.5       32.58   Credit Card     None   \n",
       "3                   None  ...     0.0       12.05          Cash     None   \n",
       "4                   None  ...     1.0       53.25          Cash     None   \n",
       "5                   None  ...     0.0       12.85          Cash     None   \n",
       "6                   None  ...     0.0       52.05          Cash     None   \n",
       "7                   None  ...     0.0       14.45          Cash     None   \n",
       "8                   None  ...     0.0       16.45          Cash     None   \n",
       "9                   None  ...     0.0        8.85   Credit Card     None   \n",
       "\n",
       "   pickup_latitude pickup_longitude                   pickup_location  \\\n",
       "0        41.968069       -87.721559  POINT (-87.7215590627 41.968069)   \n",
       "1        41.968069       -87.721559  POINT (-87.7215590627 41.968069)   \n",
       "2        41.968069       -87.721559  POINT (-87.7215590627 41.968069)   \n",
       "3        41.968069       -87.721559  POINT (-87.7215590627 41.968069)   \n",
       "4        41.968069       -87.721559  POINT (-87.7215590627 41.968069)   \n",
       "5        41.968069       -87.721559  POINT (-87.7215590627 41.968069)   \n",
       "6        41.968069       -87.721559  POINT (-87.7215590627 41.968069)   \n",
       "7        41.968069       -87.721559  POINT (-87.7215590627 41.968069)   \n",
       "8        41.968069       -87.721559  POINT (-87.7215590627 41.968069)   \n",
       "9        41.968069       -87.721559  POINT (-87.7215590627 41.968069)   \n",
       "\n",
       "   dropoff_latitude  dropoff_longitude dropoff_location  \n",
       "0              None               None             None  \n",
       "1              None               None             None  \n",
       "2              None               None             None  \n",
       "3              None               None             None  \n",
       "4              None               None             None  \n",
       "5              None               None             None  \n",
       "6              None               None             None  \n",
       "7              None               None             None  \n",
       "8              None               None             None  \n",
       "9              None               None             None  \n",
       "\n",
       "[10 rows x 23 columns]"
      ]
     },
     "execution_count": 6,
     "metadata": {},
     "output_type": "execute_result"
    }
   ],
   "source": [
    "# Your code here\n",
    "table_loc = dataset_ref.table(\"taxi_trips\")\n",
    "table = client.get_table(table_loc)\n",
    "client.list_rows(table, max_results=10).to_dataframe()"
   ]
  },
  {
   "cell_type": "markdown",
   "metadata": {
    "papermill": {
     "duration": 0.019696,
     "end_time": "2020-12-19T07:24:07.346370",
     "exception": false,
     "start_time": "2020-12-19T07:24:07.326674",
     "status": "completed"
    },
    "tags": []
   },
   "source": [
    "After deciding whether you see any important issues, run the code cell below."
   ]
  },
  {
   "cell_type": "code",
   "execution_count": 7,
   "metadata": {
    "execution": {
     "iopub.execute_input": "2020-12-19T07:24:07.391354Z",
     "iopub.status.busy": "2020-12-19T07:24:07.390608Z",
     "iopub.status.idle": "2020-12-19T07:24:07.393877Z",
     "shell.execute_reply": "2020-12-19T07:24:07.393299Z"
    },
    "papermill": {
     "duration": 0.027271,
     "end_time": "2020-12-19T07:24:07.393986",
     "exception": false,
     "start_time": "2020-12-19T07:24:07.366715",
     "status": "completed"
    },
    "tags": []
   },
   "outputs": [],
   "source": [
    "#Check your answer (Run this code cell to receive credit!)\n",
    "#q_2.solution()"
   ]
  },
  {
   "cell_type": "markdown",
   "metadata": {
    "papermill": {
     "duration": 0.019678,
     "end_time": "2020-12-19T07:24:07.433610",
     "exception": false,
     "start_time": "2020-12-19T07:24:07.413932",
     "status": "completed"
    },
    "tags": []
   },
   "source": [
    "### 3) Determine when this data is from\n",
    "\n",
    "If the data is sufficiently old, we might be careful before assuming the data is still relevant to traffic patterns today. Write a query that counts the number of trips in each year.  \n",
    "\n",
    "Your results should have two columns:\n",
    "- `year` - the year of the trips\n",
    "- `num_trips` - the number of trips in that year\n",
    "\n",
    "Hints:\n",
    "- When using **GROUP BY** and **ORDER BY**, you should refer to the columns by the alias `year` that you set at the top of the **SELECT** query.\n",
    "- The SQL code to **SELECT** the year from `trip_start_timestamp` is <code>SELECT EXTRACT(YEAR FROM trip_start_timestamp)</code>\n",
    "- The **FROM** field can be a little tricky until you are used to it.  The format is:\n",
    "    1. A backick (the symbol \\`).\n",
    "    2. The project name. In this case it is `bigquery-public-data`.\n",
    "    3. A period.\n",
    "    4. The dataset name. In this case, it is `chicago_taxi_trips`.\n",
    "    5. A period.\n",
    "    6. The table name. You used this as your answer in **1) Find the data**.\n",
    "    7. A backtick (the symbol \\`)."
   ]
  },
  {
   "cell_type": "code",
   "execution_count": 8,
   "metadata": {
    "execution": {
     "iopub.execute_input": "2020-12-19T07:24:07.482032Z",
     "iopub.status.busy": "2020-12-19T07:24:07.481328Z",
     "iopub.status.idle": "2020-12-19T07:24:09.282239Z",
     "shell.execute_reply": "2020-12-19T07:24:09.281552Z"
    },
    "papermill": {
     "duration": 1.828924,
     "end_time": "2020-12-19T07:24:09.282368",
     "exception": false,
     "start_time": "2020-12-19T07:24:07.453444",
     "status": "completed"
    },
    "tags": []
   },
   "outputs": [
    {
     "name": "stdout",
     "output_type": "stream",
     "text": [
      "   year  num_trips\n",
      "0  2013   27217716\n",
      "1  2014   37395436\n",
      "2  2015   32385875\n",
      "3  2016   31759339\n",
      "4  2017   24988003\n",
      "5  2018   20732088\n",
      "6  2019   16477365\n",
      "7  2020    3739963\n"
     ]
    },
    {
     "data": {
      "application/javascript": [
       "parent.postMessage({\"jupyterEvent\": \"custom.exercise_interaction\", \"data\": {\"outcomeType\": 1, \"valueTowardsCompletion\": 0.16666666666666666, \"interactionType\": 1, \"questionType\": 2, \"questionId\": \"3_YearDistrib\", \"learnToolsVersion\": \"0.3.4\", \"failureMessage\": \"\", \"exceptionClass\": \"\", \"trace\": \"\"}}, \"*\")"
      ],
      "text/plain": [
       "<IPython.core.display.Javascript object>"
      ]
     },
     "metadata": {},
     "output_type": "display_data"
    },
    {
     "data": {
      "text/markdown": [
       "<span style=\"color:#33cc33\">Correct</span>"
      ],
      "text/plain": [
       "Correct"
      ]
     },
     "metadata": {},
     "output_type": "display_data"
    }
   ],
   "source": [
    "# Your code goes here\n",
    "rides_per_year_query = \"\"\"\n",
    "                SELECT EXTRACT(YEAR FROM trip_start_timestamp) AS year, COUNT(unique_key) AS num_trips\n",
    "                FROM `bigquery-public-data.chicago_taxi_trips.taxi_trips`\n",
    "                GROUP BY year\n",
    "                ORDER BY year\n",
    "                       \"\"\"\n",
    "\n",
    "# Set up the query (cancel the query if it would use too much of \n",
    "# your quota)\n",
    "safe_config = bigquery.QueryJobConfig(maximum_bytes_billed=10**10)\n",
    "rides_per_year_query_job = client.query(rides_per_year_query, job_config=safe_config)\n",
    "\n",
    "# API request - run the query, and return a pandas DataFrame\n",
    "rides_per_year_result = rides_per_year_query_job.to_dataframe()\n",
    "\n",
    "# View results\n",
    "print(rides_per_year_result)\n",
    "\n",
    "# Check your answer\n",
    "q_3.check()"
   ]
  },
  {
   "cell_type": "markdown",
   "metadata": {
    "papermill": {
     "duration": 0.021127,
     "end_time": "2020-12-19T07:24:09.325103",
     "exception": false,
     "start_time": "2020-12-19T07:24:09.303976",
     "status": "completed"
    },
    "tags": []
   },
   "source": [
    "For a hint or the solution, uncomment the appropriate line below."
   ]
  },
  {
   "cell_type": "code",
   "execution_count": 9,
   "metadata": {
    "execution": {
     "iopub.execute_input": "2020-12-19T07:24:09.372799Z",
     "iopub.status.busy": "2020-12-19T07:24:09.371945Z",
     "iopub.status.idle": "2020-12-19T07:24:09.374520Z",
     "shell.execute_reply": "2020-12-19T07:24:09.373988Z"
    },
    "papermill": {
     "duration": 0.028139,
     "end_time": "2020-12-19T07:24:09.374626",
     "exception": false,
     "start_time": "2020-12-19T07:24:09.346487",
     "status": "completed"
    },
    "tags": []
   },
   "outputs": [],
   "source": [
    "#q_3.hint()\n",
    "#q_3.solution()"
   ]
  },
  {
   "cell_type": "markdown",
   "metadata": {
    "papermill": {
     "duration": 0.024614,
     "end_time": "2020-12-19T07:24:09.420826",
     "exception": false,
     "start_time": "2020-12-19T07:24:09.396212",
     "status": "completed"
    },
    "tags": []
   },
   "source": [
    "### 4) Dive slightly deeper\n",
    "\n",
    "You'd like to take a closer look at rides from 2017.  Copy the query you used above in `rides_per_year_query` into the cell below for `rides_per_month_query`.  Then modify it in two ways:\n",
    "1. Use a **WHERE** clause to limit the query to data from 2017.\n",
    "2. Modify the query to extract the month rather than the year."
   ]
  },
  {
   "cell_type": "code",
   "execution_count": 10,
   "metadata": {
    "execution": {
     "iopub.execute_input": "2020-12-19T07:24:09.473899Z",
     "iopub.status.busy": "2020-12-19T07:24:09.473234Z",
     "iopub.status.idle": "2020-12-19T07:24:11.554186Z",
     "shell.execute_reply": "2020-12-19T07:24:11.554674Z"
    },
    "papermill": {
     "duration": 2.112013,
     "end_time": "2020-12-19T07:24:11.554819",
     "exception": false,
     "start_time": "2020-12-19T07:24:09.442806",
     "status": "completed"
    },
    "tags": []
   },
   "outputs": [
    {
     "name": "stdout",
     "output_type": "stream",
     "text": [
      "    month  num_trips\n",
      "0       1    1972071\n",
      "1       2    1909802\n",
      "2       3    2362105\n",
      "3       4    2194702\n",
      "4       5    2323386\n",
      "5       6    2324472\n",
      "6       7    2054299\n",
      "7       8    2079861\n",
      "8       9    1950631\n",
      "9      10    2141197\n",
      "10     11    1907997\n",
      "11     12    1767480\n"
     ]
    },
    {
     "data": {
      "application/javascript": [
       "parent.postMessage({\"jupyterEvent\": \"custom.exercise_interaction\", \"data\": {\"outcomeType\": 1, \"valueTowardsCompletion\": 0.16666666666666666, \"interactionType\": 1, \"questionType\": 2, \"questionId\": \"4_MonthDistrib\", \"learnToolsVersion\": \"0.3.4\", \"failureMessage\": \"\", \"exceptionClass\": \"\", \"trace\": \"\"}}, \"*\")"
      ],
      "text/plain": [
       "<IPython.core.display.Javascript object>"
      ]
     },
     "metadata": {},
     "output_type": "display_data"
    },
    {
     "data": {
      "text/markdown": [
       "<span style=\"color:#33cc33\">Correct</span>"
      ],
      "text/plain": [
       "Correct"
      ]
     },
     "metadata": {},
     "output_type": "display_data"
    }
   ],
   "source": [
    "# Your code goes here\n",
    "rides_per_month_query = \"\"\"SELECT EXTRACT(MONTH FROM trip_start_timestamp) AS month, \n",
    "                               COUNT(unique_key) AS num_trips\n",
    "                        FROM `bigquery-public-data.chicago_taxi_trips.taxi_trips`\n",
    "                        WHERE EXTRACT(YEAR FROM trip_start_timestamp) = 2017\n",
    "                        GROUP BY month\n",
    "                        ORDER BY month\"\"\"\n",
    "\n",
    "# Set up the query\n",
    "safe_config = bigquery.QueryJobConfig(maximum_bytes_billed=10**10)\n",
    "rides_per_month_query_job = client.query(rides_per_month_query, job_config=safe_config) # Your code goes here\n",
    "\n",
    "# API request - run the query, and return a pandas DataFrame\n",
    "rides_per_month_result = rides_per_month_query_job.to_dataframe() # Your code goes here\n",
    "\n",
    "# View results\n",
    "print(rides_per_month_result)\n",
    "\n",
    "# Check your answer\n",
    "q_4.check()"
   ]
  },
  {
   "cell_type": "markdown",
   "metadata": {
    "papermill": {
     "duration": 0.022779,
     "end_time": "2020-12-19T07:24:11.600743",
     "exception": false,
     "start_time": "2020-12-19T07:24:11.577964",
     "status": "completed"
    },
    "tags": []
   },
   "source": [
    "For a hint or the solution, uncomment the appropriate line below."
   ]
  },
  {
   "cell_type": "code",
   "execution_count": 11,
   "metadata": {
    "execution": {
     "iopub.execute_input": "2020-12-19T07:24:11.651547Z",
     "iopub.status.busy": "2020-12-19T07:24:11.650536Z",
     "iopub.status.idle": "2020-12-19T07:24:11.653569Z",
     "shell.execute_reply": "2020-12-19T07:24:11.652900Z"
    },
    "papermill": {
     "duration": 0.02986,
     "end_time": "2020-12-19T07:24:11.653685",
     "exception": false,
     "start_time": "2020-12-19T07:24:11.623825",
     "status": "completed"
    },
    "tags": []
   },
   "outputs": [],
   "source": [
    "#q_4.hint()\n",
    "#q_4.solution()"
   ]
  },
  {
   "cell_type": "markdown",
   "metadata": {
    "papermill": {
     "duration": 0.023857,
     "end_time": "2020-12-19T07:24:11.700981",
     "exception": false,
     "start_time": "2020-12-19T07:24:11.677124",
     "status": "completed"
    },
    "tags": []
   },
   "source": [
    "### 5) Write the query\n",
    "\n",
    "It's time to step up the sophistication of your queries.  Write a query that shows, for each hour of the day in the dataset, the corresponding number of trips and average speed.\n",
    "\n",
    "Your results should have three columns:\n",
    "- `hour_of_day` - sort by this column, which holds the result of extracting the hour from `trip_start_timestamp`.\n",
    "- `num_trips` - the count of the total number of trips in each hour of the day (e.g. how many trips were started between 6AM and 7AM, independent of which day it occurred on).\n",
    "- `avg_mph` - the average speed, measured in miles per hour, for trips that started in that hour of the day.  Average speed in miles per hour is calculated as `3600 * SUM(trip_miles) / SUM(trip_seconds)`. (The value 3600 is used to convert from seconds to hours.)\n",
    "\n",
    "Restrict your query to data meeting the following criteria:\n",
    "- a `trip_start_timestamp` between **2017-01-01** and **2017-07-01**\n",
    "- `trip_seconds` > 0 and `trip_miles` > 0\n",
    "\n",
    "You will use a common table expression (CTE) to select just the relevant rides.  Because this dataset is very big, this CTE should select only the columns you'll need to create the final output (though you won't actually create those in the CTE -- instead you'll create those in the later **SELECT** statement below the CTE).\n",
    "\n",
    "This is a much harder query than anything you've written so far.  Good luck!"
   ]
  },
  {
   "cell_type": "code",
   "execution_count": 12,
   "metadata": {
    "execution": {
     "iopub.execute_input": "2020-12-19T07:24:11.760746Z",
     "iopub.status.busy": "2020-12-19T07:24:11.760039Z",
     "iopub.status.idle": "2020-12-19T07:24:13.159642Z",
     "shell.execute_reply": "2020-12-19T07:24:13.158988Z"
    },
    "papermill": {
     "duration": 1.434183,
     "end_time": "2020-12-19T07:24:13.159757",
     "exception": false,
     "start_time": "2020-12-19T07:24:11.725574",
     "status": "completed"
    },
    "tags": []
   },
   "outputs": [
    {
     "name": "stdout",
     "output_type": "stream",
     "text": [
      "    hour_of_day  num_trips    avg_mph\n",
      "0             0     319339  20.230524\n",
      "1             1     266529  18.937621\n",
      "2             2     210147  18.777070\n",
      "3             3     159668  20.158048\n",
      "4             4     122183  26.736014\n",
      "5             5     119312  30.769172\n",
      "6             6     182738  24.588313\n",
      "7             7     358406  17.735967\n",
      "8             8     541775  15.079892\n",
      "9             9     565548  16.543882\n",
      "10           10     525120  18.539614\n",
      "11           11     594603  18.928379\n",
      "12           12     622324  17.838745\n",
      "13           13     630181  17.671089\n",
      "14           14     622465  16.974239\n",
      "15           15     640430  15.688418\n",
      "16           16     701435  14.283888\n",
      "17           17     756627  12.462955\n",
      "18           18     768251  13.646810\n",
      "19           19     701064  16.642882\n",
      "20           20     598614  19.536777\n",
      "21           21     552726  20.433874\n",
      "22           22     501095  19.531374\n",
      "23           23     399587  19.877046\n"
     ]
    },
    {
     "data": {
      "application/javascript": [
       "parent.postMessage({\"jupyterEvent\": \"custom.exercise_interaction\", \"data\": {\"outcomeType\": 1, \"valueTowardsCompletion\": 0.16666666666666666, \"interactionType\": 1, \"questionType\": 2, \"questionId\": \"5_TheLongQuery\", \"learnToolsVersion\": \"0.3.4\", \"failureMessage\": \"\", \"exceptionClass\": \"\", \"trace\": \"\"}}, \"*\")"
      ],
      "text/plain": [
       "<IPython.core.display.Javascript object>"
      ]
     },
     "metadata": {},
     "output_type": "display_data"
    },
    {
     "data": {
      "text/markdown": [
       "<span style=\"color:#33cc33\">Correct</span>"
      ],
      "text/plain": [
       "Correct"
      ]
     },
     "metadata": {},
     "output_type": "display_data"
    }
   ],
   "source": [
    "# Your code goes here\n",
    "speeds_query = \"\"\"\n",
    "               WITH RelevantRides AS\n",
    "               (\n",
    "                   SELECT EXTRACT(HOUR FROM trip_start_timestamp) AS hour_of_day, trip_miles, trip_seconds\n",
    "                   FROM `bigquery-public-data.chicago_taxi_trips.taxi_trips`\n",
    "                   WHERE trip_seconds > 0 AND trip_miles > 0 AND trip_start_timestamp > '2017-01-01' AND \n",
    "                         trip_start_timestamp < '2017-07-01'        \n",
    "                )\n",
    "               SELECT hour_of_day, COUNT(1) AS num_trips, SUM(trip_miles)*60*60 / SUM(trip_seconds) AS avg_mph\n",
    "               FROM RelevantRides\n",
    "               GROUP BY hour_of_day\n",
    "               ORDER BY hour_of_day\n",
    "               \"\"\"\n",
    "\n",
    "# Set up the query\n",
    "safe_config = bigquery.QueryJobConfig(maximum_bytes_billed=10**10)\n",
    "speeds_query_job = client.query(speeds_query, job_config=safe_config)# Your code here\n",
    "\n",
    "# API request - run the query, and return a pandas DataFrame\n",
    "speeds_result = speeds_query_job.to_dataframe() # Your code here\n",
    "\n",
    "# View results\n",
    "print(speeds_result)\n",
    "\n",
    "# Check your answer\n",
    "q_5.check()"
   ]
  },
  {
   "cell_type": "markdown",
   "metadata": {
    "papermill": {
     "duration": 0.024747,
     "end_time": "2020-12-19T07:24:13.210084",
     "exception": false,
     "start_time": "2020-12-19T07:24:13.185337",
     "status": "completed"
    },
    "tags": []
   },
   "source": [
    "For the solution, uncomment the appropriate line below."
   ]
  },
  {
   "cell_type": "code",
   "execution_count": 13,
   "metadata": {
    "execution": {
     "iopub.execute_input": "2020-12-19T07:24:13.264706Z",
     "iopub.status.busy": "2020-12-19T07:24:13.263967Z",
     "iopub.status.idle": "2020-12-19T07:24:13.266377Z",
     "shell.execute_reply": "2020-12-19T07:24:13.266978Z"
    },
    "papermill": {
     "duration": 0.032166,
     "end_time": "2020-12-19T07:24:13.267114",
     "exception": false,
     "start_time": "2020-12-19T07:24:13.234948",
     "status": "completed"
    },
    "tags": []
   },
   "outputs": [],
   "source": [
    "#q_5.solution()"
   ]
  },
  {
   "cell_type": "markdown",
   "metadata": {
    "papermill": {
     "duration": 0.024639,
     "end_time": "2020-12-19T07:24:13.317102",
     "exception": false,
     "start_time": "2020-12-19T07:24:13.292463",
     "status": "completed"
    },
    "tags": []
   },
   "source": [
    "That's a hard query. If you made good progress towards the solution, congratulations!"
   ]
  },
  {
   "cell_type": "markdown",
   "metadata": {
    "papermill": {
     "duration": 0.024809,
     "end_time": "2020-12-19T07:24:13.366869",
     "exception": false,
     "start_time": "2020-12-19T07:24:13.342060",
     "status": "completed"
    },
    "tags": []
   },
   "source": [
    "# Keep going\n",
    "\n",
    "You can write very complex queries now with a single data source. But nothing expands the horizons of SQL as much as the ability to combine or **JOIN** tables.\n",
    "\n",
    "**[Click here](https://www.kaggle.com/dansbecker/joining-data)** to start the last lesson in the Intro to SQL micro-course."
   ]
  },
  {
   "cell_type": "markdown",
   "metadata": {
    "papermill": {
     "duration": 0.025259,
     "end_time": "2020-12-19T07:24:13.417152",
     "exception": false,
     "start_time": "2020-12-19T07:24:13.391893",
     "status": "completed"
    },
    "tags": []
   },
   "source": [
    "---\n",
    "\n",
    "\n",
    "\n",
    "\n",
    "*Have questions or comments? Visit the [Learn Discussion forum](https://www.kaggle.com/learn-forum/161314) to chat with other Learners.*"
   ]
  }
 ],
 "metadata": {
  "kernelspec": {
   "display_name": "Python 3",
   "language": "python",
   "name": "python3"
  },
  "language_info": {
   "codemirror_mode": {
    "name": "ipython",
    "version": 3
   },
   "file_extension": ".py",
   "mimetype": "text/x-python",
   "name": "python",
   "nbconvert_exporter": "python",
   "pygments_lexer": "ipython3",
   "version": "3.7.6"
  },
  "papermill": {
   "duration": 21.28343,
   "end_time": "2020-12-19T07:24:13.549701",
   "environment_variables": {},
   "exception": null,
   "input_path": "__notebook__.ipynb",
   "output_path": "__notebook__.ipynb",
   "parameters": {},
   "start_time": "2020-12-19T07:23:52.266271",
   "version": "2.1.0"
  }
 },
 "nbformat": 4,
 "nbformat_minor": 4
}
