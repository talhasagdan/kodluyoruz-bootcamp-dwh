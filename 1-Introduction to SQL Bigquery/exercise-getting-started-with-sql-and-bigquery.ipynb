{
 "cells": [
  {
   "cell_type": "markdown",
   "metadata": {
    "papermill": {
     "duration": 0.019298,
     "end_time": "2020-12-17T10:23:11.568110",
     "exception": false,
     "start_time": "2020-12-17T10:23:11.548812",
     "status": "completed"
    },
    "tags": []
   },
   "source": [
    "**This notebook is an exercise in the [SQL](https://www.kaggle.com/learn/intro-to-sql) course.  You can reference the tutorial at [this link](https://www.kaggle.com/dansbecker/getting-started-with-sql-and-bigquery).**\n",
    "\n",
    "---\n"
   ]
  },
  {
   "cell_type": "markdown",
   "metadata": {
    "papermill": {
     "duration": 0.016135,
     "end_time": "2020-12-17T10:23:11.600757",
     "exception": false,
     "start_time": "2020-12-17T10:23:11.584622",
     "status": "completed"
    },
    "tags": []
   },
   "source": [
    "# Introduction\n",
    "\n",
    "The first test of your new data exploration skills uses data describing crime in the city of Chicago.\n",
    "\n",
    "Before you get started, run the following cell. It sets up the automated feedback system to review your answers."
   ]
  },
  {
   "cell_type": "code",
   "execution_count": 1,
   "metadata": {
    "execution": {
     "iopub.execute_input": "2020-12-17T10:23:11.641121Z",
     "iopub.status.busy": "2020-12-17T10:23:11.640188Z",
     "iopub.status.idle": "2020-12-17T10:23:12.293868Z",
     "shell.execute_reply": "2020-12-17T10:23:12.292822Z"
    },
    "papermill": {
     "duration": 0.676682,
     "end_time": "2020-12-17T10:23:12.294076",
     "exception": false,
     "start_time": "2020-12-17T10:23:11.617394",
     "status": "completed"
    },
    "tags": []
   },
   "outputs": [
    {
     "name": "stdout",
     "output_type": "stream",
     "text": [
      "Using Kaggle's public dataset BigQuery integration.\n",
      "Setup Complete\n"
     ]
    }
   ],
   "source": [
    "# Set up feedack system\n",
    "from learntools.core import binder\n",
    "binder.bind(globals())\n",
    "from learntools.sql.ex1 import *\n",
    "print(\"Setup Complete\")"
   ]
  },
  {
   "cell_type": "markdown",
   "metadata": {
    "papermill": {
     "duration": 0.017362,
     "end_time": "2020-12-17T10:23:12.329819",
     "exception": false,
     "start_time": "2020-12-17T10:23:12.312457",
     "status": "completed"
    },
    "tags": []
   },
   "source": [
    "Use the next code cell to fetch the dataset."
   ]
  },
  {
   "cell_type": "code",
   "execution_count": 2,
   "metadata": {
    "execution": {
     "iopub.execute_input": "2020-12-17T10:23:12.375746Z",
     "iopub.status.busy": "2020-12-17T10:23:12.374660Z",
     "iopub.status.idle": "2020-12-17T10:23:12.643724Z",
     "shell.execute_reply": "2020-12-17T10:23:12.643058Z"
    },
    "papermill": {
     "duration": 0.296443,
     "end_time": "2020-12-17T10:23:12.643845",
     "exception": false,
     "start_time": "2020-12-17T10:23:12.347402",
     "status": "completed"
    },
    "tags": []
   },
   "outputs": [
    {
     "name": "stdout",
     "output_type": "stream",
     "text": [
      "Using Kaggle's public dataset BigQuery integration.\n"
     ]
    }
   ],
   "source": [
    "from google.cloud import bigquery\n",
    "\n",
    "# Create a \"Client\" object\n",
    "client = bigquery.Client()\n",
    "\n",
    "# Construct a reference to the \"chicago_crime\" dataset\n",
    "dataset_ref = client.dataset(\"chicago_crime\", project=\"bigquery-public-data\")\n",
    "\n",
    "# API request - fetch the dataset\n",
    "dataset = client.get_dataset(dataset_ref)"
   ]
  },
  {
   "cell_type": "markdown",
   "metadata": {
    "papermill": {
     "duration": 0.017799,
     "end_time": "2020-12-17T10:23:12.680077",
     "exception": false,
     "start_time": "2020-12-17T10:23:12.662278",
     "status": "completed"
    },
    "tags": []
   },
   "source": [
    "# Exercises\n",
    "\n",
    "### 1) Count tables in the dataset\n",
    "\n",
    "How many tables are in the Chicago Crime dataset?"
   ]
  },
  {
   "cell_type": "code",
   "execution_count": 3,
   "metadata": {
    "execution": {
     "iopub.execute_input": "2020-12-17T10:23:12.723041Z",
     "iopub.status.busy": "2020-12-17T10:23:12.722243Z",
     "iopub.status.idle": "2020-12-17T10:23:12.872422Z",
     "shell.execute_reply": "2020-12-17T10:23:12.871345Z"
    },
    "papermill": {
     "duration": 0.174405,
     "end_time": "2020-12-17T10:23:12.872614",
     "exception": false,
     "start_time": "2020-12-17T10:23:12.698209",
     "status": "completed"
    },
    "tags": []
   },
   "outputs": [
    {
     "name": "stdout",
     "output_type": "stream",
     "text": [
      "crime\n",
      "1\n"
     ]
    }
   ],
   "source": [
    "# Write the code you need here to figure out the answer\n",
    "tables = list(client.list_tables(dataset))\n",
    "i=0\n",
    "for table in tables:\n",
    "    i+=1\n",
    "    print (table.table_id)\n",
    "print(i)"
   ]
  },
  {
   "cell_type": "code",
   "execution_count": 4,
   "metadata": {
    "execution": {
     "iopub.execute_input": "2020-12-17T10:23:12.919620Z",
     "iopub.status.busy": "2020-12-17T10:23:12.918571Z",
     "iopub.status.idle": "2020-12-17T10:23:12.925360Z",
     "shell.execute_reply": "2020-12-17T10:23:12.925998Z"
    },
    "papermill": {
     "duration": 0.033807,
     "end_time": "2020-12-17T10:23:12.926158",
     "exception": false,
     "start_time": "2020-12-17T10:23:12.892351",
     "status": "completed"
    },
    "tags": []
   },
   "outputs": [
    {
     "data": {
      "application/javascript": [
       "parent.postMessage({\"jupyterEvent\": \"custom.exercise_interaction\", \"data\": {\"outcomeType\": 1, \"valueTowardsCompletion\": 0.3333333333333333, \"interactionType\": 1, \"questionType\": 1, \"questionId\": \"1_CountTables\", \"learnToolsVersion\": \"0.3.4\", \"failureMessage\": \"\", \"exceptionClass\": \"\", \"trace\": \"\"}}, \"*\")"
      ],
      "text/plain": [
       "<IPython.core.display.Javascript object>"
      ]
     },
     "metadata": {},
     "output_type": "display_data"
    },
    {
     "data": {
      "text/markdown": [
       "<span style=\"color:#33cc33\">Correct</span>"
      ],
      "text/plain": [
       "Correct"
      ]
     },
     "metadata": {},
     "output_type": "display_data"
    }
   ],
   "source": [
    "num_tables = i # Store the answer as num_tables and then run this cell\n",
    "\n",
    "# Check your answer\n",
    "q_1.check()"
   ]
  },
  {
   "cell_type": "markdown",
   "metadata": {
    "papermill": {
     "duration": 0.019916,
     "end_time": "2020-12-17T10:23:12.966533",
     "exception": false,
     "start_time": "2020-12-17T10:23:12.946617",
     "status": "completed"
    },
    "tags": []
   },
   "source": [
    "For a hint or the solution, uncomment the appropriate line below."
   ]
  },
  {
   "cell_type": "code",
   "execution_count": 5,
   "metadata": {
    "execution": {
     "iopub.execute_input": "2020-12-17T10:23:13.012006Z",
     "iopub.status.busy": "2020-12-17T10:23:13.011163Z",
     "iopub.status.idle": "2020-12-17T10:23:13.014517Z",
     "shell.execute_reply": "2020-12-17T10:23:13.013787Z"
    },
    "papermill": {
     "duration": 0.02795,
     "end_time": "2020-12-17T10:23:13.014641",
     "exception": false,
     "start_time": "2020-12-17T10:23:12.986691",
     "status": "completed"
    },
    "tags": []
   },
   "outputs": [],
   "source": [
    "#q_1.hint()\n",
    "#q_1.solution()"
   ]
  },
  {
   "cell_type": "markdown",
   "metadata": {
    "papermill": {
     "duration": 0.019975,
     "end_time": "2020-12-17T10:23:13.055142",
     "exception": false,
     "start_time": "2020-12-17T10:23:13.035167",
     "status": "completed"
    },
    "tags": []
   },
   "source": [
    "### 2) Explore the table schema\n",
    "\n",
    "How many columns in the `crime` table have `TIMESTAMP` data?"
   ]
  },
  {
   "cell_type": "code",
   "execution_count": 6,
   "metadata": {
    "execution": {
     "iopub.execute_input": "2020-12-17T10:23:13.105461Z",
     "iopub.status.busy": "2020-12-17T10:23:13.104625Z",
     "iopub.status.idle": "2020-12-17T10:23:13.258660Z",
     "shell.execute_reply": "2020-12-17T10:23:13.257870Z"
    },
    "papermill": {
     "duration": 0.183268,
     "end_time": "2020-12-17T10:23:13.258786",
     "exception": false,
     "start_time": "2020-12-17T10:23:13.075518",
     "status": "completed"
    },
    "tags": []
   },
   "outputs": [
    {
     "name": "stdout",
     "output_type": "stream",
     "text": [
      "2\n"
     ]
    }
   ],
   "source": [
    "table_ref = dataset_ref.table(\"crime\")\n",
    "table = client.get_table(table_ref)\n",
    "\n",
    "field_types = [field.field_type for field in table.schema]\n",
    "i=0\n",
    "for time in field_types:\n",
    "    if time=='TIMESTAMP':\n",
    "        i+=1\n",
    "print(i)"
   ]
  },
  {
   "cell_type": "code",
   "execution_count": 7,
   "metadata": {
    "execution": {
     "iopub.execute_input": "2020-12-17T10:23:13.308181Z",
     "iopub.status.busy": "2020-12-17T10:23:13.307190Z",
     "iopub.status.idle": "2020-12-17T10:23:13.313115Z",
     "shell.execute_reply": "2020-12-17T10:23:13.312354Z"
    },
    "papermill": {
     "duration": 0.033227,
     "end_time": "2020-12-17T10:23:13.313247",
     "exception": false,
     "start_time": "2020-12-17T10:23:13.280020",
     "status": "completed"
    },
    "tags": []
   },
   "outputs": [
    {
     "data": {
      "application/javascript": [
       "parent.postMessage({\"jupyterEvent\": \"custom.exercise_interaction\", \"data\": {\"outcomeType\": 1, \"valueTowardsCompletion\": 0.3333333333333333, \"interactionType\": 1, \"questionType\": 1, \"questionId\": \"2_CountTimestampFields\", \"learnToolsVersion\": \"0.3.4\", \"failureMessage\": \"\", \"exceptionClass\": \"\", \"trace\": \"\"}}, \"*\")"
      ],
      "text/plain": [
       "<IPython.core.display.Javascript object>"
      ]
     },
     "metadata": {},
     "output_type": "display_data"
    },
    {
     "data": {
      "text/markdown": [
       "<span style=\"color:#33cc33\">Correct</span>"
      ],
      "text/plain": [
       "Correct"
      ]
     },
     "metadata": {},
     "output_type": "display_data"
    }
   ],
   "source": [
    "num_timestamp_fields = i # Put your answer here\n",
    "\n",
    "# Check your answer\n",
    "q_2.check()"
   ]
  },
  {
   "cell_type": "markdown",
   "metadata": {
    "papermill": {
     "duration": 0.022026,
     "end_time": "2020-12-17T10:23:13.358013",
     "exception": false,
     "start_time": "2020-12-17T10:23:13.335987",
     "status": "completed"
    },
    "tags": []
   },
   "source": [
    "For a hint or the solution, uncomment the appropriate line below."
   ]
  },
  {
   "cell_type": "code",
   "execution_count": 8,
   "metadata": {
    "execution": {
     "iopub.execute_input": "2020-12-17T10:23:13.407651Z",
     "iopub.status.busy": "2020-12-17T10:23:13.406759Z",
     "iopub.status.idle": "2020-12-17T10:23:13.410457Z",
     "shell.execute_reply": "2020-12-17T10:23:13.409818Z"
    },
    "papermill": {
     "duration": 0.030252,
     "end_time": "2020-12-17T10:23:13.410584",
     "exception": false,
     "start_time": "2020-12-17T10:23:13.380332",
     "status": "completed"
    },
    "tags": []
   },
   "outputs": [],
   "source": [
    "#q_2.hint()\n",
    "#q_2.solution()"
   ]
  },
  {
   "cell_type": "markdown",
   "metadata": {
    "papermill": {
     "duration": 0.022136,
     "end_time": "2020-12-17T10:23:13.455487",
     "exception": false,
     "start_time": "2020-12-17T10:23:13.433351",
     "status": "completed"
    },
    "tags": []
   },
   "source": [
    "### 3) Create a crime map\n",
    "\n",
    "If you wanted to create a map with a dot at the location of each crime, what are the names of the two fields you likely need to pull out of the `crime` table to plot the crimes on a map?"
   ]
  },
  {
   "cell_type": "code",
   "execution_count": 9,
   "metadata": {
    "execution": {
     "iopub.execute_input": "2020-12-17T10:23:13.508562Z",
     "iopub.status.busy": "2020-12-17T10:23:13.507629Z",
     "iopub.status.idle": "2020-12-17T10:23:13.511044Z",
     "shell.execute_reply": "2020-12-17T10:23:13.511616Z"
    },
    "papermill": {
     "duration": 0.033743,
     "end_time": "2020-12-17T10:23:13.511763",
     "exception": false,
     "start_time": "2020-12-17T10:23:13.478020",
     "status": "completed"
    },
    "tags": []
   },
   "outputs": [
    {
     "name": "stdout",
     "output_type": "stream",
     "text": [
      "['unique_key', 'case_number', 'date', 'block', 'iucr', 'primary_type', 'description', 'location_description', 'arrest', 'domestic', 'beat', 'district', 'ward', 'community_area', 'fbi_code', 'x_coordinate', 'y_coordinate', 'year', 'updated_on', 'latitude', 'longitude', 'location']\n"
     ]
    }
   ],
   "source": [
    "# Write the code here to explore the data so you can find the answer\n",
    "column_names = [i.name for i in table.schema]\n",
    "print(column_names)"
   ]
  },
  {
   "cell_type": "code",
   "execution_count": 10,
   "metadata": {
    "execution": {
     "iopub.execute_input": "2020-12-17T10:23:13.564983Z",
     "iopub.status.busy": "2020-12-17T10:23:13.563910Z",
     "iopub.status.idle": "2020-12-17T10:23:13.570379Z",
     "shell.execute_reply": "2020-12-17T10:23:13.569618Z"
    },
    "papermill": {
     "duration": 0.035588,
     "end_time": "2020-12-17T10:23:13.570505",
     "exception": false,
     "start_time": "2020-12-17T10:23:13.534917",
     "status": "completed"
    },
    "tags": []
   },
   "outputs": [
    {
     "data": {
      "application/javascript": [
       "parent.postMessage({\"jupyterEvent\": \"custom.exercise_interaction\", \"data\": {\"outcomeType\": 1, \"valueTowardsCompletion\": 0.3333333333333333, \"interactionType\": 1, \"questionType\": 2, \"questionId\": \"3_IdentifyFieldsForPlotting\", \"learnToolsVersion\": \"0.3.4\", \"failureMessage\": \"\", \"exceptionClass\": \"\", \"trace\": \"\"}}, \"*\")"
      ],
      "text/plain": [
       "<IPython.core.display.Javascript object>"
      ]
     },
     "metadata": {},
     "output_type": "display_data"
    },
    {
     "data": {
      "text/markdown": [
       "<span style=\"color:#33cc33\">Correct</span>"
      ],
      "text/plain": [
       "Correct"
      ]
     },
     "metadata": {},
     "output_type": "display_data"
    }
   ],
   "source": [
    "fields_for_plotting = [column_names[19], column_names[20]] # Put your answers here\n",
    "\n",
    "# Check your answer\n",
    "q_3.check()"
   ]
  },
  {
   "cell_type": "markdown",
   "metadata": {
    "papermill": {
     "duration": 0.024159,
     "end_time": "2020-12-17T10:23:13.619420",
     "exception": false,
     "start_time": "2020-12-17T10:23:13.595261",
     "status": "completed"
    },
    "tags": []
   },
   "source": [
    "For a hint or the solution, uncomment the appropriate line below."
   ]
  },
  {
   "cell_type": "code",
   "execution_count": 11,
   "metadata": {
    "execution": {
     "iopub.execute_input": "2020-12-17T10:23:13.673526Z",
     "iopub.status.busy": "2020-12-17T10:23:13.672496Z",
     "iopub.status.idle": "2020-12-17T10:23:13.675162Z",
     "shell.execute_reply": "2020-12-17T10:23:13.675682Z"
    },
    "papermill": {
     "duration": 0.031861,
     "end_time": "2020-12-17T10:23:13.675835",
     "exception": false,
     "start_time": "2020-12-17T10:23:13.643974",
     "status": "completed"
    },
    "tags": []
   },
   "outputs": [],
   "source": [
    "#q_3.hint()\n",
    "#q_3.solution()"
   ]
  },
  {
   "cell_type": "markdown",
   "metadata": {
    "papermill": {
     "duration": 0.024719,
     "end_time": "2020-12-17T10:23:13.725403",
     "exception": false,
     "start_time": "2020-12-17T10:23:13.700684",
     "status": "completed"
    },
    "tags": []
   },
   "source": [
    "Thinking about the question above, there are a few columns that appear to have geographic data. Look at a few values (with the `list_rows()` command) to see if you can determine their relationship.  Two columns will still be hard to interpret. But it should be obvious how the `location` column relates to `latitude` and `longitude`."
   ]
  },
  {
   "cell_type": "code",
   "execution_count": 12,
   "metadata": {
    "execution": {
     "iopub.execute_input": "2020-12-17T10:23:13.782401Z",
     "iopub.status.busy": "2020-12-17T10:23:13.781601Z",
     "iopub.status.idle": "2020-12-17T10:23:14.790065Z",
     "shell.execute_reply": "2020-12-17T10:23:14.789323Z"
    },
    "papermill": {
     "duration": 1.039851,
     "end_time": "2020-12-17T10:23:14.790186",
     "exception": false,
     "start_time": "2020-12-17T10:23:13.750335",
     "status": "completed"
    },
    "tags": []
   },
   "outputs": [
    {
     "data": {
      "text/html": [
       "<div>\n",
       "<style scoped>\n",
       "    .dataframe tbody tr th:only-of-type {\n",
       "        vertical-align: middle;\n",
       "    }\n",
       "\n",
       "    .dataframe tbody tr th {\n",
       "        vertical-align: top;\n",
       "    }\n",
       "\n",
       "    .dataframe thead th {\n",
       "        text-align: right;\n",
       "    }\n",
       "</style>\n",
       "<table border=\"1\" class=\"dataframe\">\n",
       "  <thead>\n",
       "    <tr style=\"text-align: right;\">\n",
       "      <th></th>\n",
       "      <th>latitude</th>\n",
       "      <th>longitude</th>\n",
       "      <th>location</th>\n",
       "    </tr>\n",
       "  </thead>\n",
       "  <tbody>\n",
       "    <tr>\n",
       "      <th>0</th>\n",
       "      <td>NaN</td>\n",
       "      <td>NaN</td>\n",
       "      <td>None</td>\n",
       "    </tr>\n",
       "    <tr>\n",
       "      <th>1</th>\n",
       "      <td>NaN</td>\n",
       "      <td>NaN</td>\n",
       "      <td>None</td>\n",
       "    </tr>\n",
       "    <tr>\n",
       "      <th>2</th>\n",
       "      <td>NaN</td>\n",
       "      <td>NaN</td>\n",
       "      <td>None</td>\n",
       "    </tr>\n",
       "    <tr>\n",
       "      <th>3</th>\n",
       "      <td>NaN</td>\n",
       "      <td>NaN</td>\n",
       "      <td>None</td>\n",
       "    </tr>\n",
       "    <tr>\n",
       "      <th>4</th>\n",
       "      <td>NaN</td>\n",
       "      <td>NaN</td>\n",
       "      <td>None</td>\n",
       "    </tr>\n",
       "    <tr>\n",
       "      <th>5</th>\n",
       "      <td>NaN</td>\n",
       "      <td>NaN</td>\n",
       "      <td>None</td>\n",
       "    </tr>\n",
       "    <tr>\n",
       "      <th>6</th>\n",
       "      <td>41.707516</td>\n",
       "      <td>-87.602092</td>\n",
       "      <td>(41.707515553, -87.602091762)</td>\n",
       "    </tr>\n",
       "    <tr>\n",
       "      <th>7</th>\n",
       "      <td>41.794534</td>\n",
       "      <td>-87.631439</td>\n",
       "      <td>(41.794533814, -87.631438536)</td>\n",
       "    </tr>\n",
       "    <tr>\n",
       "      <th>8</th>\n",
       "      <td>41.727606</td>\n",
       "      <td>-87.599461</td>\n",
       "      <td>(41.727606396, -87.599460793)</td>\n",
       "    </tr>\n",
       "    <tr>\n",
       "      <th>9</th>\n",
       "      <td>41.707664</td>\n",
       "      <td>-87.592294</td>\n",
       "      <td>(41.707664098, -87.59229355)</td>\n",
       "    </tr>\n",
       "    <tr>\n",
       "      <th>10</th>\n",
       "      <td>41.809125</td>\n",
       "      <td>-87.631907</td>\n",
       "      <td>(41.809125265, -87.631906508)</td>\n",
       "    </tr>\n",
       "    <tr>\n",
       "      <th>11</th>\n",
       "      <td>41.826408</td>\n",
       "      <td>-87.631399</td>\n",
       "      <td>(41.826408336, -87.63139868)</td>\n",
       "    </tr>\n",
       "    <tr>\n",
       "      <th>12</th>\n",
       "      <td>41.997133</td>\n",
       "      <td>-87.807065</td>\n",
       "      <td>(41.997133499, -87.807065274)</td>\n",
       "    </tr>\n",
       "    <tr>\n",
       "      <th>13</th>\n",
       "      <td>41.724036</td>\n",
       "      <td>-87.596395</td>\n",
       "      <td>(41.724035633, -87.596395048)</td>\n",
       "    </tr>\n",
       "    <tr>\n",
       "      <th>14</th>\n",
       "      <td>41.809125</td>\n",
       "      <td>-87.631907</td>\n",
       "      <td>(41.809125265, -87.631906508)</td>\n",
       "    </tr>\n",
       "    <tr>\n",
       "      <th>15</th>\n",
       "      <td>41.707519</td>\n",
       "      <td>-87.601839</td>\n",
       "      <td>(41.707519433, -87.601839023)</td>\n",
       "    </tr>\n",
       "    <tr>\n",
       "      <th>16</th>\n",
       "      <td>41.830954</td>\n",
       "      <td>-87.630703</td>\n",
       "      <td>(41.830954079, -87.630703226)</td>\n",
       "    </tr>\n",
       "    <tr>\n",
       "      <th>17</th>\n",
       "      <td>41.657680</td>\n",
       "      <td>-87.605371</td>\n",
       "      <td>(41.657680049, -87.605371079)</td>\n",
       "    </tr>\n",
       "    <tr>\n",
       "      <th>18</th>\n",
       "      <td>41.829390</td>\n",
       "      <td>-87.606893</td>\n",
       "      <td>(41.829389915, -87.606892634)</td>\n",
       "    </tr>\n",
       "    <tr>\n",
       "      <th>19</th>\n",
       "      <td>41.827497</td>\n",
       "      <td>-87.608712</td>\n",
       "      <td>(41.827496886, -87.608711884)</td>\n",
       "    </tr>\n",
       "    <tr>\n",
       "      <th>20</th>\n",
       "      <td>41.789031</td>\n",
       "      <td>-87.730391</td>\n",
       "      <td>(41.789030909, -87.730390901)</td>\n",
       "    </tr>\n",
       "    <tr>\n",
       "      <th>21</th>\n",
       "      <td>41.654508</td>\n",
       "      <td>-87.545911</td>\n",
       "      <td>(41.654508056, -87.545911241)</td>\n",
       "    </tr>\n",
       "    <tr>\n",
       "      <th>22</th>\n",
       "      <td>41.659137</td>\n",
       "      <td>-87.608875</td>\n",
       "      <td>(41.659137482, -87.608875108)</td>\n",
       "    </tr>\n",
       "    <tr>\n",
       "      <th>23</th>\n",
       "      <td>41.992032</td>\n",
       "      <td>-87.787567</td>\n",
       "      <td>(41.992031548, -87.787566967)</td>\n",
       "    </tr>\n",
       "    <tr>\n",
       "      <th>24</th>\n",
       "      <td>41.654877</td>\n",
       "      <td>-87.594875</td>\n",
       "      <td>(41.654876979, -87.594874948)</td>\n",
       "    </tr>\n",
       "    <tr>\n",
       "      <th>25</th>\n",
       "      <td>41.777676</td>\n",
       "      <td>-87.742270</td>\n",
       "      <td>(41.77767637, -87.742269586)</td>\n",
       "    </tr>\n",
       "    <tr>\n",
       "      <th>26</th>\n",
       "      <td>41.656972</td>\n",
       "      <td>-87.597687</td>\n",
       "      <td>(41.656972482, -87.59768703)</td>\n",
       "    </tr>\n",
       "    <tr>\n",
       "      <th>27</th>\n",
       "      <td>41.722288</td>\n",
       "      <td>-87.680875</td>\n",
       "      <td>(41.722287798, -87.680874837)</td>\n",
       "    </tr>\n",
       "    <tr>\n",
       "      <th>28</th>\n",
       "      <td>NaN</td>\n",
       "      <td>NaN</td>\n",
       "      <td>None</td>\n",
       "    </tr>\n",
       "    <tr>\n",
       "      <th>29</th>\n",
       "      <td>NaN</td>\n",
       "      <td>NaN</td>\n",
       "      <td>None</td>\n",
       "    </tr>\n",
       "    <tr>\n",
       "      <th>30</th>\n",
       "      <td>NaN</td>\n",
       "      <td>NaN</td>\n",
       "      <td>None</td>\n",
       "    </tr>\n",
       "    <tr>\n",
       "      <th>31</th>\n",
       "      <td>NaN</td>\n",
       "      <td>NaN</td>\n",
       "      <td>None</td>\n",
       "    </tr>\n",
       "    <tr>\n",
       "      <th>32</th>\n",
       "      <td>NaN</td>\n",
       "      <td>NaN</td>\n",
       "      <td>None</td>\n",
       "    </tr>\n",
       "    <tr>\n",
       "      <th>33</th>\n",
       "      <td>NaN</td>\n",
       "      <td>NaN</td>\n",
       "      <td>None</td>\n",
       "    </tr>\n",
       "    <tr>\n",
       "      <th>34</th>\n",
       "      <td>NaN</td>\n",
       "      <td>NaN</td>\n",
       "      <td>None</td>\n",
       "    </tr>\n",
       "    <tr>\n",
       "      <th>35</th>\n",
       "      <td>NaN</td>\n",
       "      <td>NaN</td>\n",
       "      <td>None</td>\n",
       "    </tr>\n",
       "    <tr>\n",
       "      <th>36</th>\n",
       "      <td>41.829451</td>\n",
       "      <td>-87.606940</td>\n",
       "      <td>(41.829450586, -87.606939648)</td>\n",
       "    </tr>\n",
       "    <tr>\n",
       "      <th>37</th>\n",
       "      <td>41.774334</td>\n",
       "      <td>-87.765136</td>\n",
       "      <td>(41.77433392, -87.765136147)</td>\n",
       "    </tr>\n",
       "    <tr>\n",
       "      <th>38</th>\n",
       "      <td>41.924322</td>\n",
       "      <td>-87.796486</td>\n",
       "      <td>(41.924321671, -87.796485824)</td>\n",
       "    </tr>\n",
       "    <tr>\n",
       "      <th>39</th>\n",
       "      <td>41.747199</td>\n",
       "      <td>-87.589380</td>\n",
       "      <td>(41.747199046, -87.589380195)</td>\n",
       "    </tr>\n",
       "    <tr>\n",
       "      <th>40</th>\n",
       "      <td>41.797617</td>\n",
       "      <td>-87.634298</td>\n",
       "      <td>(41.797616617, -87.634298457)</td>\n",
       "    </tr>\n",
       "    <tr>\n",
       "      <th>41</th>\n",
       "      <td>41.983463</td>\n",
       "      <td>-87.713767</td>\n",
       "      <td>(41.983462787, -87.713766904)</td>\n",
       "    </tr>\n",
       "    <tr>\n",
       "      <th>42</th>\n",
       "      <td>41.791498</td>\n",
       "      <td>-87.716374</td>\n",
       "      <td>(41.791497703, -87.716374385)</td>\n",
       "    </tr>\n",
       "    <tr>\n",
       "      <th>43</th>\n",
       "      <td>41.751407</td>\n",
       "      <td>-87.593806</td>\n",
       "      <td>(41.751407191, -87.593806252)</td>\n",
       "    </tr>\n",
       "    <tr>\n",
       "      <th>44</th>\n",
       "      <td>41.819503</td>\n",
       "      <td>-87.598860</td>\n",
       "      <td>(41.819503378, -87.598860047)</td>\n",
       "    </tr>\n",
       "    <tr>\n",
       "      <th>45</th>\n",
       "      <td>41.987317</td>\n",
       "      <td>-87.778382</td>\n",
       "      <td>(41.987316886, -87.778382175)</td>\n",
       "    </tr>\n",
       "    <tr>\n",
       "      <th>46</th>\n",
       "      <td>41.974474</td>\n",
       "      <td>-87.809826</td>\n",
       "      <td>(41.974473519, -87.809826125)</td>\n",
       "    </tr>\n",
       "    <tr>\n",
       "      <th>47</th>\n",
       "      <td>41.997021</td>\n",
       "      <td>-87.814994</td>\n",
       "      <td>(41.997021388, -87.814994045)</td>\n",
       "    </tr>\n",
       "    <tr>\n",
       "      <th>48</th>\n",
       "      <td>41.852868</td>\n",
       "      <td>-87.630915</td>\n",
       "      <td>(41.852868298, -87.63091491)</td>\n",
       "    </tr>\n",
       "    <tr>\n",
       "      <th>49</th>\n",
       "      <td>41.996672</td>\n",
       "      <td>-87.789907</td>\n",
       "      <td>(41.996672114, -87.789907499)</td>\n",
       "    </tr>\n",
       "  </tbody>\n",
       "</table>\n",
       "</div>"
      ],
      "text/plain": [
       "     latitude  longitude                       location\n",
       "0         NaN        NaN                           None\n",
       "1         NaN        NaN                           None\n",
       "2         NaN        NaN                           None\n",
       "3         NaN        NaN                           None\n",
       "4         NaN        NaN                           None\n",
       "5         NaN        NaN                           None\n",
       "6   41.707516 -87.602092  (41.707515553, -87.602091762)\n",
       "7   41.794534 -87.631439  (41.794533814, -87.631438536)\n",
       "8   41.727606 -87.599461  (41.727606396, -87.599460793)\n",
       "9   41.707664 -87.592294   (41.707664098, -87.59229355)\n",
       "10  41.809125 -87.631907  (41.809125265, -87.631906508)\n",
       "11  41.826408 -87.631399   (41.826408336, -87.63139868)\n",
       "12  41.997133 -87.807065  (41.997133499, -87.807065274)\n",
       "13  41.724036 -87.596395  (41.724035633, -87.596395048)\n",
       "14  41.809125 -87.631907  (41.809125265, -87.631906508)\n",
       "15  41.707519 -87.601839  (41.707519433, -87.601839023)\n",
       "16  41.830954 -87.630703  (41.830954079, -87.630703226)\n",
       "17  41.657680 -87.605371  (41.657680049, -87.605371079)\n",
       "18  41.829390 -87.606893  (41.829389915, -87.606892634)\n",
       "19  41.827497 -87.608712  (41.827496886, -87.608711884)\n",
       "20  41.789031 -87.730391  (41.789030909, -87.730390901)\n",
       "21  41.654508 -87.545911  (41.654508056, -87.545911241)\n",
       "22  41.659137 -87.608875  (41.659137482, -87.608875108)\n",
       "23  41.992032 -87.787567  (41.992031548, -87.787566967)\n",
       "24  41.654877 -87.594875  (41.654876979, -87.594874948)\n",
       "25  41.777676 -87.742270   (41.77767637, -87.742269586)\n",
       "26  41.656972 -87.597687   (41.656972482, -87.59768703)\n",
       "27  41.722288 -87.680875  (41.722287798, -87.680874837)\n",
       "28        NaN        NaN                           None\n",
       "29        NaN        NaN                           None\n",
       "30        NaN        NaN                           None\n",
       "31        NaN        NaN                           None\n",
       "32        NaN        NaN                           None\n",
       "33        NaN        NaN                           None\n",
       "34        NaN        NaN                           None\n",
       "35        NaN        NaN                           None\n",
       "36  41.829451 -87.606940  (41.829450586, -87.606939648)\n",
       "37  41.774334 -87.765136   (41.77433392, -87.765136147)\n",
       "38  41.924322 -87.796486  (41.924321671, -87.796485824)\n",
       "39  41.747199 -87.589380  (41.747199046, -87.589380195)\n",
       "40  41.797617 -87.634298  (41.797616617, -87.634298457)\n",
       "41  41.983463 -87.713767  (41.983462787, -87.713766904)\n",
       "42  41.791498 -87.716374  (41.791497703, -87.716374385)\n",
       "43  41.751407 -87.593806  (41.751407191, -87.593806252)\n",
       "44  41.819503 -87.598860  (41.819503378, -87.598860047)\n",
       "45  41.987317 -87.778382  (41.987316886, -87.778382175)\n",
       "46  41.974474 -87.809826  (41.974473519, -87.809826125)\n",
       "47  41.997021 -87.814994  (41.997021388, -87.814994045)\n",
       "48  41.852868 -87.630915   (41.852868298, -87.63091491)\n",
       "49  41.996672 -87.789907  (41.996672114, -87.789907499)"
      ]
     },
     "execution_count": 12,
     "metadata": {},
     "output_type": "execute_result"
    }
   ],
   "source": [
    "df= client.list_rows(table, max_results=50).to_dataframe()\n",
    "df[['latitude','longitude','location']]"
   ]
  },
  {
   "cell_type": "markdown",
   "metadata": {
    "papermill": {
     "duration": 0.025544,
     "end_time": "2020-12-17T10:23:14.841772",
     "exception": false,
     "start_time": "2020-12-17T10:23:14.816228",
     "status": "completed"
    },
    "tags": []
   },
   "source": [
    "# Keep going\n",
    "\n",
    "You've looked at the schema, but you haven't yet done anything exciting with the data itself. Things get more interesting when you get to the data, so keep going to **[write your first SQL query](https://www.kaggle.com/dansbecker/select-from-where).**"
   ]
  },
  {
   "cell_type": "markdown",
   "metadata": {
    "papermill": {
     "duration": 0.025501,
     "end_time": "2020-12-17T10:23:14.893511",
     "exception": false,
     "start_time": "2020-12-17T10:23:14.868010",
     "status": "completed"
    },
    "tags": []
   },
   "source": [
    "---\n",
    "\n",
    "\n",
    "\n",
    "\n",
    "*Have questions or comments? Visit the [Learn Discussion forum](https://www.kaggle.com/learn-forum/161314) to chat with other Learners.*"
   ]
  }
 ],
 "metadata": {
  "kernelspec": {
   "display_name": "Python 3",
   "language": "python",
   "name": "python3"
  },
  "language_info": {
   "codemirror_mode": {
    "name": "ipython",
    "version": 3
   },
   "file_extension": ".py",
   "mimetype": "text/x-python",
   "name": "python",
   "nbconvert_exporter": "python",
   "pygments_lexer": "ipython3",
   "version": "3.7.6"
  },
  "papermill": {
   "duration": 8.806503,
   "end_time": "2020-12-17T10:23:15.026825",
   "environment_variables": {},
   "exception": null,
   "input_path": "__notebook__.ipynb",
   "output_path": "__notebook__.ipynb",
   "parameters": {},
   "start_time": "2020-12-17T10:23:06.220322",
   "version": "2.1.0"
  }
 },
 "nbformat": 4,
 "nbformat_minor": 4
}
