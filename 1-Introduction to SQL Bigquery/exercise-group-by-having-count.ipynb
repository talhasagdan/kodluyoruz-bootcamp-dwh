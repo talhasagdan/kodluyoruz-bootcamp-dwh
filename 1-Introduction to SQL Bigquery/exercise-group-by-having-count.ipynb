{
 "cells": [
  {
   "cell_type": "markdown",
   "metadata": {
    "papermill": {
     "duration": 0.01305,
     "end_time": "2020-12-17T14:23:28.549900",
     "exception": false,
     "start_time": "2020-12-17T14:23:28.536850",
     "status": "completed"
    },
    "tags": []
   },
   "source": [
    "**This notebook is an exercise in the [SQL](https://www.kaggle.com/learn/intro-to-sql) course.  You can reference the tutorial at [this link](https://www.kaggle.com/dansbecker/group-by-having-count).**\n",
    "\n",
    "---\n"
   ]
  },
  {
   "cell_type": "markdown",
   "metadata": {
    "papermill": {
     "duration": 0.00959,
     "end_time": "2020-12-17T14:23:28.569856",
     "exception": false,
     "start_time": "2020-12-17T14:23:28.560266",
     "status": "completed"
    },
    "tags": []
   },
   "source": [
    "# Introduction\n",
    "\n",
    "Queries with **GROUP BY** can be powerful. There are many small things that can trip you up (like the order of the clauses), but it will start to feel natural once you've done it a few times. Here, you'll write queries using **GROUP BY** to answer questions from the Hacker News dataset.\n",
    "\n",
    "Before you get started, run the following cell to set everything up:"
   ]
  },
  {
   "cell_type": "code",
   "execution_count": 1,
   "metadata": {
    "execution": {
     "iopub.execute_input": "2020-12-17T14:23:28.596494Z",
     "iopub.status.busy": "2020-12-17T14:23:28.595732Z",
     "iopub.status.idle": "2020-12-17T14:23:30.669866Z",
     "shell.execute_reply": "2020-12-17T14:23:30.669054Z"
    },
    "papermill": {
     "duration": 2.090191,
     "end_time": "2020-12-17T14:23:30.670026",
     "exception": false,
     "start_time": "2020-12-17T14:23:28.579835",
     "status": "completed"
    },
    "tags": []
   },
   "outputs": [
    {
     "name": "stdout",
     "output_type": "stream",
     "text": [
      "Using Kaggle's public dataset BigQuery integration.\n",
      "Setup Complete\n"
     ]
    }
   ],
   "source": [
    "# Set up feedback system\n",
    "from learntools.core import binder\n",
    "binder.bind(globals())\n",
    "from learntools.sql.ex3 import *\n",
    "print(\"Setup Complete\")"
   ]
  },
  {
   "cell_type": "markdown",
   "metadata": {
    "papermill": {
     "duration": 0.010275,
     "end_time": "2020-12-17T14:23:30.691627",
     "exception": false,
     "start_time": "2020-12-17T14:23:30.681352",
     "status": "completed"
    },
    "tags": []
   },
   "source": [
    "The code cell below fetches the `comments` table from the `hacker_news` dataset.  We also preview the first five rows of the table."
   ]
  },
  {
   "cell_type": "code",
   "execution_count": 2,
   "metadata": {
    "execution": {
     "iopub.execute_input": "2020-12-17T14:23:30.723767Z",
     "iopub.status.busy": "2020-12-17T14:23:30.722618Z",
     "iopub.status.idle": "2020-12-17T14:23:32.378522Z",
     "shell.execute_reply": "2020-12-17T14:23:32.379051Z"
    },
    "papermill": {
     "duration": 1.676939,
     "end_time": "2020-12-17T14:23:32.379204",
     "exception": false,
     "start_time": "2020-12-17T14:23:30.702265",
     "status": "completed"
    },
    "tags": []
   },
   "outputs": [
    {
     "name": "stdout",
     "output_type": "stream",
     "text": [
      "Using Kaggle's public dataset BigQuery integration.\n"
     ]
    },
    {
     "data": {
      "text/html": [
       "<div>\n",
       "<style scoped>\n",
       "    .dataframe tbody tr th:only-of-type {\n",
       "        vertical-align: middle;\n",
       "    }\n",
       "\n",
       "    .dataframe tbody tr th {\n",
       "        vertical-align: top;\n",
       "    }\n",
       "\n",
       "    .dataframe thead th {\n",
       "        text-align: right;\n",
       "    }\n",
       "</style>\n",
       "<table border=\"1\" class=\"dataframe\">\n",
       "  <thead>\n",
       "    <tr style=\"text-align: right;\">\n",
       "      <th></th>\n",
       "      <th>id</th>\n",
       "      <th>by</th>\n",
       "      <th>author</th>\n",
       "      <th>time</th>\n",
       "      <th>time_ts</th>\n",
       "      <th>text</th>\n",
       "      <th>parent</th>\n",
       "      <th>deleted</th>\n",
       "      <th>dead</th>\n",
       "      <th>ranking</th>\n",
       "    </tr>\n",
       "  </thead>\n",
       "  <tbody>\n",
       "    <tr>\n",
       "      <th>0</th>\n",
       "      <td>2701393</td>\n",
       "      <td>5l</td>\n",
       "      <td>5l</td>\n",
       "      <td>1309184881</td>\n",
       "      <td>2011-06-27 14:28:01+00:00</td>\n",
       "      <td>And the glazier who fixed all the broken windo...</td>\n",
       "      <td>2701243</td>\n",
       "      <td>None</td>\n",
       "      <td>None</td>\n",
       "      <td>0</td>\n",
       "    </tr>\n",
       "    <tr>\n",
       "      <th>1</th>\n",
       "      <td>5811403</td>\n",
       "      <td>99</td>\n",
       "      <td>99</td>\n",
       "      <td>1370234048</td>\n",
       "      <td>2013-06-03 04:34:08+00:00</td>\n",
       "      <td>Does canada have the equivalent of H1B/Green c...</td>\n",
       "      <td>5804452</td>\n",
       "      <td>None</td>\n",
       "      <td>None</td>\n",
       "      <td>0</td>\n",
       "    </tr>\n",
       "    <tr>\n",
       "      <th>2</th>\n",
       "      <td>21623</td>\n",
       "      <td>AF</td>\n",
       "      <td>AF</td>\n",
       "      <td>1178992400</td>\n",
       "      <td>2007-05-12 17:53:20+00:00</td>\n",
       "      <td>Speaking of Rails, there are other options in ...</td>\n",
       "      <td>21611</td>\n",
       "      <td>None</td>\n",
       "      <td>None</td>\n",
       "      <td>0</td>\n",
       "    </tr>\n",
       "    <tr>\n",
       "      <th>3</th>\n",
       "      <td>10159727</td>\n",
       "      <td>EA</td>\n",
       "      <td>EA</td>\n",
       "      <td>1441206574</td>\n",
       "      <td>2015-09-02 15:09:34+00:00</td>\n",
       "      <td>Humans and large livestock (and maybe even pet...</td>\n",
       "      <td>10159396</td>\n",
       "      <td>None</td>\n",
       "      <td>None</td>\n",
       "      <td>0</td>\n",
       "    </tr>\n",
       "    <tr>\n",
       "      <th>4</th>\n",
       "      <td>2988424</td>\n",
       "      <td>Iv</td>\n",
       "      <td>Iv</td>\n",
       "      <td>1315853580</td>\n",
       "      <td>2011-09-12 18:53:00+00:00</td>\n",
       "      <td>I must say I reacted in the same way when I re...</td>\n",
       "      <td>2988179</td>\n",
       "      <td>None</td>\n",
       "      <td>None</td>\n",
       "      <td>0</td>\n",
       "    </tr>\n",
       "    <tr>\n",
       "      <th>5</th>\n",
       "      <td>3867418</td>\n",
       "      <td>Iv</td>\n",
       "      <td>Iv</td>\n",
       "      <td>1334921984</td>\n",
       "      <td>2012-04-20 11:39:44+00:00</td>\n",
       "      <td>&amp;#62; There's a whole class of 'mom &amp;#38; pop'...</td>\n",
       "      <td>3867404</td>\n",
       "      <td>None</td>\n",
       "      <td>None</td>\n",
       "      <td>0</td>\n",
       "    </tr>\n",
       "    <tr>\n",
       "      <th>6</th>\n",
       "      <td>3925617</td>\n",
       "      <td>Iv</td>\n",
       "      <td>Iv</td>\n",
       "      <td>1336076765</td>\n",
       "      <td>2012-05-03 20:26:05+00:00</td>\n",
       "      <td>I'm also in this ballpark (300-600€ / day) whi...</td>\n",
       "      <td>3924840</td>\n",
       "      <td>None</td>\n",
       "      <td>None</td>\n",
       "      <td>0</td>\n",
       "    </tr>\n",
       "    <tr>\n",
       "      <th>7</th>\n",
       "      <td>3107534</td>\n",
       "      <td>Iv</td>\n",
       "      <td>Iv</td>\n",
       "      <td>1318520044</td>\n",
       "      <td>2011-10-13 15:34:04+00:00</td>\n",
       "      <td>how do you run unity in non-accelerated mode ?...</td>\n",
       "      <td>3107241</td>\n",
       "      <td>None</td>\n",
       "      <td>None</td>\n",
       "      <td>0</td>\n",
       "    </tr>\n",
       "    <tr>\n",
       "      <th>8</th>\n",
       "      <td>8409259</td>\n",
       "      <td>Iv</td>\n",
       "      <td>Iv</td>\n",
       "      <td>1412421647</td>\n",
       "      <td>2014-10-04 11:20:47+00:00</td>\n",
       "      <td>Polio is not exterminated even if it is absent...</td>\n",
       "      <td>8409226</td>\n",
       "      <td>None</td>\n",
       "      <td>None</td>\n",
       "      <td>0</td>\n",
       "    </tr>\n",
       "    <tr>\n",
       "      <th>9</th>\n",
       "      <td>2855741</td>\n",
       "      <td>Jd</td>\n",
       "      <td>Jd</td>\n",
       "      <td>1312690646</td>\n",
       "      <td>2011-08-07 04:17:26+00:00</td>\n",
       "      <td>Yep, I didn't find Rescuetime very helpful. I ...</td>\n",
       "      <td>2855343</td>\n",
       "      <td>None</td>\n",
       "      <td>None</td>\n",
       "      <td>0</td>\n",
       "    </tr>\n",
       "    <tr>\n",
       "      <th>10</th>\n",
       "      <td>50570</td>\n",
       "      <td>Jd</td>\n",
       "      <td>Jd</td>\n",
       "      <td>1189011845</td>\n",
       "      <td>2007-09-05 17:04:05+00:00</td>\n",
       "      <td>It was a risky joke.  Looks like I am losing s...</td>\n",
       "      <td>50556</td>\n",
       "      <td>None</td>\n",
       "      <td>None</td>\n",
       "      <td>0</td>\n",
       "    </tr>\n",
       "    <tr>\n",
       "      <th>11</th>\n",
       "      <td>2600618</td>\n",
       "      <td>Jd</td>\n",
       "      <td>Jd</td>\n",
       "      <td>1306794854</td>\n",
       "      <td>2011-05-30 22:34:14+00:00</td>\n",
       "      <td>Looks good, there are a bunch of questions he ...</td>\n",
       "      <td>2600609</td>\n",
       "      <td>None</td>\n",
       "      <td>None</td>\n",
       "      <td>0</td>\n",
       "    </tr>\n",
       "    <tr>\n",
       "      <th>12</th>\n",
       "      <td>2600423</td>\n",
       "      <td>Jd</td>\n",
       "      <td>Jd</td>\n",
       "      <td>1306789205</td>\n",
       "      <td>2011-05-30 21:00:05+00:00</td>\n",
       "      <td>A bit, but so much for me ended up being gener...</td>\n",
       "      <td>2599323</td>\n",
       "      <td>None</td>\n",
       "      <td>None</td>\n",
       "      <td>0</td>\n",
       "    </tr>\n",
       "    <tr>\n",
       "      <th>13</th>\n",
       "      <td>1983932</td>\n",
       "      <td>Jd</td>\n",
       "      <td>Jd</td>\n",
       "      <td>1291831945</td>\n",
       "      <td>2010-12-08 18:12:25+00:00</td>\n",
       "      <td>I also agree with your rejoinder and upvoted i...</td>\n",
       "      <td>1979965</td>\n",
       "      <td>None</td>\n",
       "      <td>None</td>\n",
       "      <td>0</td>\n",
       "    </tr>\n",
       "    <tr>\n",
       "      <th>14</th>\n",
       "      <td>5824036</td>\n",
       "      <td>Jd</td>\n",
       "      <td>Jd</td>\n",
       "      <td>1370414140</td>\n",
       "      <td>2013-06-05 06:35:40+00:00</td>\n",
       "      <td>Sadly doesn't provide any filtering on tags, w...</td>\n",
       "      <td>5824021</td>\n",
       "      <td>None</td>\n",
       "      <td>None</td>\n",
       "      <td>0</td>\n",
       "    </tr>\n",
       "    <tr>\n",
       "      <th>15</th>\n",
       "      <td>73111</td>\n",
       "      <td>Jd</td>\n",
       "      <td>Jd</td>\n",
       "      <td>1193467001</td>\n",
       "      <td>2007-10-27 06:36:41+00:00</td>\n",
       "      <td>Feferman usefully explores the presuppositions...</td>\n",
       "      <td>73107</td>\n",
       "      <td>None</td>\n",
       "      <td>None</td>\n",
       "      <td>0</td>\n",
       "    </tr>\n",
       "    <tr>\n",
       "      <th>16</th>\n",
       "      <td>4569290</td>\n",
       "      <td>Jd</td>\n",
       "      <td>Jd</td>\n",
       "      <td>1348562302</td>\n",
       "      <td>2012-09-25 08:38:22+00:00</td>\n",
       "      <td>Here are my take aways:&lt;p&gt;(1) Say that you can...</td>\n",
       "      <td>4569255</td>\n",
       "      <td>None</td>\n",
       "      <td>None</td>\n",
       "      <td>0</td>\n",
       "    </tr>\n",
       "    <tr>\n",
       "      <th>17</th>\n",
       "      <td>319968</td>\n",
       "      <td>KB</td>\n",
       "      <td>KB</td>\n",
       "      <td>1222805047</td>\n",
       "      <td>2008-09-30 20:04:07+00:00</td>\n",
       "      <td>You may find a few here: &lt;a href=\"http://web20...</td>\n",
       "      <td>319943</td>\n",
       "      <td>None</td>\n",
       "      <td>None</td>\n",
       "      <td>0</td>\n",
       "    </tr>\n",
       "    <tr>\n",
       "      <th>18</th>\n",
       "      <td>9699296</td>\n",
       "      <td>M8</td>\n",
       "      <td>M8</td>\n",
       "      <td>1434026580</td>\n",
       "      <td>2015-06-11 12:43:00+00:00</td>\n",
       "      <td>For instance?</td>\n",
       "      <td>9698927</td>\n",
       "      <td>None</td>\n",
       "      <td>None</td>\n",
       "      <td>0</td>\n",
       "    </tr>\n",
       "    <tr>\n",
       "      <th>19</th>\n",
       "      <td>4895850</td>\n",
       "      <td>Mz</td>\n",
       "      <td>Mz</td>\n",
       "      <td>1355082935</td>\n",
       "      <td>2012-12-09 19:55:35+00:00</td>\n",
       "      <td>So, basically, you think I have Munchausen the...</td>\n",
       "      <td>4895812</td>\n",
       "      <td>None</td>\n",
       "      <td>None</td>\n",
       "      <td>0</td>\n",
       "    </tr>\n",
       "    <tr>\n",
       "      <th>20</th>\n",
       "      <td>10313701</td>\n",
       "      <td>Mz</td>\n",
       "      <td>Mz</td>\n",
       "      <td>1443725815</td>\n",
       "      <td>2015-10-01 18:56:55+00:00</td>\n",
       "      <td>One way to test your hypothesis is to start re...</td>\n",
       "      <td>10313194</td>\n",
       "      <td>None</td>\n",
       "      <td>None</td>\n",
       "      <td>0</td>\n",
       "    </tr>\n",
       "    <tr>\n",
       "      <th>21</th>\n",
       "      <td>1658291</td>\n",
       "      <td>Mz</td>\n",
       "      <td>Mz</td>\n",
       "      <td>1283476918</td>\n",
       "      <td>2010-09-03 01:21:58+00:00</td>\n",
       "      <td>And then there is always the risk that someone...</td>\n",
       "      <td>1658204</td>\n",
       "      <td>None</td>\n",
       "      <td>None</td>\n",
       "      <td>0</td>\n",
       "    </tr>\n",
       "    <tr>\n",
       "      <th>22</th>\n",
       "      <td>4911653</td>\n",
       "      <td>Mz</td>\n",
       "      <td>Mz</td>\n",
       "      <td>1355336835</td>\n",
       "      <td>2012-12-12 18:27:15+00:00</td>\n",
       "      <td>Maybe you should acquaint yourself with a book...</td>\n",
       "      <td>4911595</td>\n",
       "      <td>None</td>\n",
       "      <td>None</td>\n",
       "      <td>0</td>\n",
       "    </tr>\n",
       "    <tr>\n",
       "      <th>23</th>\n",
       "      <td>3996858</td>\n",
       "      <td>Mz</td>\n",
       "      <td>Mz</td>\n",
       "      <td>1337456956</td>\n",
       "      <td>2012-05-19 19:49:16+00:00</td>\n",
       "      <td>Again, I do not agree. Emotion or \"caring\" is ...</td>\n",
       "      <td>3996819</td>\n",
       "      <td>None</td>\n",
       "      <td>None</td>\n",
       "      <td>0</td>\n",
       "    </tr>\n",
       "    <tr>\n",
       "      <th>24</th>\n",
       "      <td>9894480</td>\n",
       "      <td>Mz</td>\n",
       "      <td>Mz</td>\n",
       "      <td>1437000136</td>\n",
       "      <td>2015-07-15 22:42:16+00:00</td>\n",
       "      <td>Thank you.</td>\n",
       "      <td>9894355</td>\n",
       "      <td>None</td>\n",
       "      <td>None</td>\n",
       "      <td>0</td>\n",
       "    </tr>\n",
       "  </tbody>\n",
       "</table>\n",
       "</div>"
      ],
      "text/plain": [
       "          id  by author        time                   time_ts  \\\n",
       "0    2701393  5l     5l  1309184881 2011-06-27 14:28:01+00:00   \n",
       "1    5811403  99     99  1370234048 2013-06-03 04:34:08+00:00   \n",
       "2      21623  AF     AF  1178992400 2007-05-12 17:53:20+00:00   \n",
       "3   10159727  EA     EA  1441206574 2015-09-02 15:09:34+00:00   \n",
       "4    2988424  Iv     Iv  1315853580 2011-09-12 18:53:00+00:00   \n",
       "5    3867418  Iv     Iv  1334921984 2012-04-20 11:39:44+00:00   \n",
       "6    3925617  Iv     Iv  1336076765 2012-05-03 20:26:05+00:00   \n",
       "7    3107534  Iv     Iv  1318520044 2011-10-13 15:34:04+00:00   \n",
       "8    8409259  Iv     Iv  1412421647 2014-10-04 11:20:47+00:00   \n",
       "9    2855741  Jd     Jd  1312690646 2011-08-07 04:17:26+00:00   \n",
       "10     50570  Jd     Jd  1189011845 2007-09-05 17:04:05+00:00   \n",
       "11   2600618  Jd     Jd  1306794854 2011-05-30 22:34:14+00:00   \n",
       "12   2600423  Jd     Jd  1306789205 2011-05-30 21:00:05+00:00   \n",
       "13   1983932  Jd     Jd  1291831945 2010-12-08 18:12:25+00:00   \n",
       "14   5824036  Jd     Jd  1370414140 2013-06-05 06:35:40+00:00   \n",
       "15     73111  Jd     Jd  1193467001 2007-10-27 06:36:41+00:00   \n",
       "16   4569290  Jd     Jd  1348562302 2012-09-25 08:38:22+00:00   \n",
       "17    319968  KB     KB  1222805047 2008-09-30 20:04:07+00:00   \n",
       "18   9699296  M8     M8  1434026580 2015-06-11 12:43:00+00:00   \n",
       "19   4895850  Mz     Mz  1355082935 2012-12-09 19:55:35+00:00   \n",
       "20  10313701  Mz     Mz  1443725815 2015-10-01 18:56:55+00:00   \n",
       "21   1658291  Mz     Mz  1283476918 2010-09-03 01:21:58+00:00   \n",
       "22   4911653  Mz     Mz  1355336835 2012-12-12 18:27:15+00:00   \n",
       "23   3996858  Mz     Mz  1337456956 2012-05-19 19:49:16+00:00   \n",
       "24   9894480  Mz     Mz  1437000136 2015-07-15 22:42:16+00:00   \n",
       "\n",
       "                                                 text    parent deleted  dead  \\\n",
       "0   And the glazier who fixed all the broken windo...   2701243    None  None   \n",
       "1   Does canada have the equivalent of H1B/Green c...   5804452    None  None   \n",
       "2   Speaking of Rails, there are other options in ...     21611    None  None   \n",
       "3   Humans and large livestock (and maybe even pet...  10159396    None  None   \n",
       "4   I must say I reacted in the same way when I re...   2988179    None  None   \n",
       "5   &#62; There's a whole class of 'mom &#38; pop'...   3867404    None  None   \n",
       "6   I'm also in this ballpark (300-600€ / day) whi...   3924840    None  None   \n",
       "7   how do you run unity in non-accelerated mode ?...   3107241    None  None   \n",
       "8   Polio is not exterminated even if it is absent...   8409226    None  None   \n",
       "9   Yep, I didn't find Rescuetime very helpful. I ...   2855343    None  None   \n",
       "10  It was a risky joke.  Looks like I am losing s...     50556    None  None   \n",
       "11  Looks good, there are a bunch of questions he ...   2600609    None  None   \n",
       "12  A bit, but so much for me ended up being gener...   2599323    None  None   \n",
       "13  I also agree with your rejoinder and upvoted i...   1979965    None  None   \n",
       "14  Sadly doesn't provide any filtering on tags, w...   5824021    None  None   \n",
       "15  Feferman usefully explores the presuppositions...     73107    None  None   \n",
       "16  Here are my take aways:<p>(1) Say that you can...   4569255    None  None   \n",
       "17  You may find a few here: <a href=\"http://web20...    319943    None  None   \n",
       "18                                      For instance?   9698927    None  None   \n",
       "19  So, basically, you think I have Munchausen the...   4895812    None  None   \n",
       "20  One way to test your hypothesis is to start re...  10313194    None  None   \n",
       "21  And then there is always the risk that someone...   1658204    None  None   \n",
       "22  Maybe you should acquaint yourself with a book...   4911595    None  None   \n",
       "23  Again, I do not agree. Emotion or \"caring\" is ...   3996819    None  None   \n",
       "24                                         Thank you.   9894355    None  None   \n",
       "\n",
       "    ranking  \n",
       "0         0  \n",
       "1         0  \n",
       "2         0  \n",
       "3         0  \n",
       "4         0  \n",
       "5         0  \n",
       "6         0  \n",
       "7         0  \n",
       "8         0  \n",
       "9         0  \n",
       "10        0  \n",
       "11        0  \n",
       "12        0  \n",
       "13        0  \n",
       "14        0  \n",
       "15        0  \n",
       "16        0  \n",
       "17        0  \n",
       "18        0  \n",
       "19        0  \n",
       "20        0  \n",
       "21        0  \n",
       "22        0  \n",
       "23        0  \n",
       "24        0  "
      ]
     },
     "execution_count": 2,
     "metadata": {},
     "output_type": "execute_result"
    }
   ],
   "source": [
    "from google.cloud import bigquery\n",
    "\n",
    "# Create a \"Client\" object\n",
    "client = bigquery.Client()\n",
    "\n",
    "# Construct a reference to the \"hacker_news\" dataset\n",
    "dataset_ref = client.dataset(\"hacker_news\", project=\"bigquery-public-data\")\n",
    "\n",
    "# API request - fetch the dataset\n",
    "dataset = client.get_dataset(dataset_ref)\n",
    "\n",
    "# Construct a reference to the \"comments\" table\n",
    "table_ref = dataset_ref.table(\"comments\")\n",
    "\n",
    "# API request - fetch the table\n",
    "table = client.get_table(table_ref)\n",
    "\n",
    "# Preview the first five lines of the \"comments\" table\n",
    "client.list_rows(table, max_results=25).to_dataframe()"
   ]
  },
  {
   "cell_type": "markdown",
   "metadata": {
    "papermill": {
     "duration": 0.011707,
     "end_time": "2020-12-17T14:23:32.403169",
     "exception": false,
     "start_time": "2020-12-17T14:23:32.391462",
     "status": "completed"
    },
    "tags": []
   },
   "source": [
    "# Exercises\n",
    "\n",
    "### 1) Prolific commenters\n",
    "\n",
    "Hacker News would like to send awards to everyone who has written more than 10,000 posts. Write a query that returns all authors with more than 10,000 posts as well as their post counts. Call the column with post counts `NumPosts`.\n",
    "\n",
    "In case sample query is helpful, here is a query you saw in the tutorial to answer a similar question:\n",
    "```\n",
    "query = \"\"\"\n",
    "        SELECT parent, COUNT(1) AS NumPosts\n",
    "        FROM `bigquery-public-data.hacker_news.comments`\n",
    "        GROUP BY parent\n",
    "        HAVING COUNT(1) > 10\n",
    "        \"\"\"\n",
    "```"
   ]
  },
  {
   "cell_type": "code",
   "execution_count": 3,
   "metadata": {
    "execution": {
     "iopub.execute_input": "2020-12-17T14:23:32.437469Z",
     "iopub.status.busy": "2020-12-17T14:23:32.436756Z",
     "iopub.status.idle": "2020-12-17T14:23:33.528780Z",
     "shell.execute_reply": "2020-12-17T14:23:33.528146Z"
    },
    "papermill": {
     "duration": 1.113343,
     "end_time": "2020-12-17T14:23:33.528889",
     "exception": false,
     "start_time": "2020-12-17T14:23:32.415546",
     "status": "completed"
    },
    "tags": []
   },
   "outputs": [
    {
     "name": "stdout",
     "output_type": "stream",
     "text": [
      "         author  NumPosts\n",
      "0  dragonwriter     10723\n",
      "1          None    227736\n",
      "2           eru     10448\n",
      "3       rbanffy     10557\n",
      "4         DanBC     12902\n"
     ]
    },
    {
     "data": {
      "application/javascript": [
       "parent.postMessage({\"jupyterEvent\": \"custom.exercise_interaction\", \"data\": {\"outcomeType\": 1, \"valueTowardsCompletion\": 0.5, \"interactionType\": 1, \"questionType\": 2, \"questionId\": \"1_ProlificCommenters\", \"learnToolsVersion\": \"0.3.4\", \"failureMessage\": \"\", \"exceptionClass\": \"\", \"trace\": \"\"}}, \"*\")"
      ],
      "text/plain": [
       "<IPython.core.display.Javascript object>"
      ]
     },
     "metadata": {},
     "output_type": "display_data"
    },
    {
     "data": {
      "text/markdown": [
       "<span style=\"color:#33cc33\">Correct</span>"
      ],
      "text/plain": [
       "Correct"
      ]
     },
     "metadata": {},
     "output_type": "display_data"
    }
   ],
   "source": [
    "# Query to select prolific commenters and post counts\n",
    "prolific_commenters_query = \"\"\"\n",
    "        SELECT author, COUNT(id) AS NumPosts\n",
    "        FROM `bigquery-public-data.hacker_news.comments`\n",
    "        GROUP BY author\n",
    "        HAVING COUNT(id) > 10000\n",
    "        \"\"\"\n",
    "# Set up the query (cancel the query if it would use too much of \n",
    "# your quota, with the limit set to 1 GB)\n",
    "safe_config = bigquery.QueryJobConfig(maximum_bytes_billed=10**10)\n",
    "query_job = client.query(prolific_commenters_query, job_config=safe_config)\n",
    "\n",
    "# API request - run the query, and return a pandas DataFrame\n",
    "prolific_commenters = query_job.to_dataframe()\n",
    "\n",
    "# View top few rows of results\n",
    "print(prolific_commenters.head())\n",
    "\n",
    "# Check your answer\n",
    "q_1.check()"
   ]
  },
  {
   "cell_type": "markdown",
   "metadata": {
    "papermill": {
     "duration": 0.013611,
     "end_time": "2020-12-17T14:23:33.556211",
     "exception": false,
     "start_time": "2020-12-17T14:23:33.542600",
     "status": "completed"
    },
    "tags": []
   },
   "source": [
    "For the solution, uncomment the line below."
   ]
  },
  {
   "cell_type": "code",
   "execution_count": 4,
   "metadata": {
    "execution": {
     "iopub.execute_input": "2020-12-17T14:23:33.588743Z",
     "iopub.status.busy": "2020-12-17T14:23:33.587769Z",
     "iopub.status.idle": "2020-12-17T14:23:33.590907Z",
     "shell.execute_reply": "2020-12-17T14:23:33.590366Z"
    },
    "papermill": {
     "duration": 0.021256,
     "end_time": "2020-12-17T14:23:33.591021",
     "exception": false,
     "start_time": "2020-12-17T14:23:33.569765",
     "status": "completed"
    },
    "tags": []
   },
   "outputs": [],
   "source": [
    "#q_1.solution()"
   ]
  },
  {
   "cell_type": "markdown",
   "metadata": {
    "papermill": {
     "duration": 0.013366,
     "end_time": "2020-12-17T14:23:33.618215",
     "exception": false,
     "start_time": "2020-12-17T14:23:33.604849",
     "status": "completed"
    },
    "tags": []
   },
   "source": [
    "### 2) Deleted comments\n",
    "\n",
    "How many comments have been deleted? (If a comment was deleted, the `deleted` column in the comments table will have the value `True`.)"
   ]
  },
  {
   "cell_type": "code",
   "execution_count": 5,
   "metadata": {
    "execution": {
     "iopub.execute_input": "2020-12-17T14:23:33.650684Z",
     "iopub.status.busy": "2020-12-17T14:23:33.649666Z",
     "iopub.status.idle": "2020-12-17T14:23:33.653171Z",
     "shell.execute_reply": "2020-12-17T14:23:33.652529Z"
    },
    "papermill": {
     "duration": 0.021245,
     "end_time": "2020-12-17T14:23:33.653277",
     "exception": false,
     "start_time": "2020-12-17T14:23:33.632032",
     "status": "completed"
    },
    "tags": []
   },
   "outputs": [],
   "source": [
    "# Write your query here and figure out the answer"
   ]
  },
  {
   "cell_type": "code",
   "execution_count": 6,
   "metadata": {
    "execution": {
     "iopub.execute_input": "2020-12-17T14:23:33.690288Z",
     "iopub.status.busy": "2020-12-17T14:23:33.689594Z",
     "iopub.status.idle": "2020-12-17T14:23:34.579143Z",
     "shell.execute_reply": "2020-12-17T14:23:34.578534Z"
    },
    "papermill": {
     "duration": 0.912057,
     "end_time": "2020-12-17T14:23:34.579259",
     "exception": false,
     "start_time": "2020-12-17T14:23:33.667202",
     "status": "completed"
    },
    "tags": []
   },
   "outputs": [
    {
     "data": {
      "application/javascript": [
       "parent.postMessage({\"jupyterEvent\": \"custom.exercise_interaction\", \"data\": {\"outcomeType\": 1, \"valueTowardsCompletion\": 0.5, \"interactionType\": 1, \"questionType\": 1, \"questionId\": \"2_NumDeletedPosts\", \"learnToolsVersion\": \"0.3.4\", \"failureMessage\": \"\", \"exceptionClass\": \"\", \"trace\": \"\"}}, \"*\")"
      ],
      "text/plain": [
       "<IPython.core.display.Javascript object>"
      ]
     },
     "metadata": {},
     "output_type": "display_data"
    },
    {
     "data": {
      "text/markdown": [
       "<span style=\"color:#33cc33\">Correct</span>"
      ],
      "text/plain": [
       "Correct"
      ]
     },
     "metadata": {},
     "output_type": "display_data"
    }
   ],
   "source": [
    "num_deleted_posts = \"\"\"\n",
    "        SELECT COUNT(id) AS NumDeletedPosts\n",
    "        FROM `bigquery-public-data.hacker_news.comments`\n",
    "        GROUP BY deleted\n",
    "        HAVING deleted=True\n",
    "        \"\"\"\n",
    "\n",
    "safe_config = bigquery.QueryJobConfig(maximum_bytes_billed=10**10)\n",
    "query_job = client.query(num_deleted_posts, job_config=safe_config)\n",
    "\n",
    "# API request - run the query, and return a pandas DataFrame\n",
    "num_deleted_posts = query_job.to_dataframe()\n",
    "\n",
    "# View top few rows of results\n",
    "num_deleted_posts=num_deleted_posts['NumDeletedPosts'].values[0]\n",
    "# Check your answer\n",
    "q_2.check()"
   ]
  },
  {
   "cell_type": "markdown",
   "metadata": {
    "papermill": {
     "duration": 0.015338,
     "end_time": "2020-12-17T14:23:34.610101",
     "exception": false,
     "start_time": "2020-12-17T14:23:34.594763",
     "status": "completed"
    },
    "tags": []
   },
   "source": [
    "For the solution, uncomment the line below."
   ]
  },
  {
   "cell_type": "code",
   "execution_count": 7,
   "metadata": {
    "execution": {
     "iopub.execute_input": "2020-12-17T14:23:34.646483Z",
     "iopub.status.busy": "2020-12-17T14:23:34.645483Z",
     "iopub.status.idle": "2020-12-17T14:23:34.648566Z",
     "shell.execute_reply": "2020-12-17T14:23:34.647926Z"
    },
    "papermill": {
     "duration": 0.022566,
     "end_time": "2020-12-17T14:23:34.648672",
     "exception": false,
     "start_time": "2020-12-17T14:23:34.626106",
     "status": "completed"
    },
    "tags": []
   },
   "outputs": [],
   "source": [
    "#q_2.solution()"
   ]
  },
  {
   "cell_type": "markdown",
   "metadata": {
    "papermill": {
     "duration": 0.015478,
     "end_time": "2020-12-17T14:23:34.679811",
     "exception": false,
     "start_time": "2020-12-17T14:23:34.664333",
     "status": "completed"
    },
    "tags": []
   },
   "source": [
    "# Keep Going\n",
    "**[Click here](https://www.kaggle.com/dansbecker/order-by)** to move on and learn about the **ORDER BY** clause."
   ]
  },
  {
   "cell_type": "markdown",
   "metadata": {
    "papermill": {
     "duration": 0.015018,
     "end_time": "2020-12-17T14:23:34.710188",
     "exception": false,
     "start_time": "2020-12-17T14:23:34.695170",
     "status": "completed"
    },
    "tags": []
   },
   "source": [
    "---\n",
    "\n",
    "\n",
    "\n",
    "\n",
    "*Have questions or comments? Visit the [Learn Discussion forum](https://www.kaggle.com/learn-forum/161314) to chat with other Learners.*"
   ]
  }
 ],
 "metadata": {
  "kernelspec": {
   "display_name": "Python 3",
   "language": "python",
   "name": "python3"
  },
  "language_info": {
   "codemirror_mode": {
    "name": "ipython",
    "version": 3
   },
   "file_extension": ".py",
   "mimetype": "text/x-python",
   "name": "python",
   "nbconvert_exporter": "python",
   "pygments_lexer": "ipython3",
   "version": "3.7.6"
  },
  "papermill": {
   "duration": 11.377937,
   "end_time": "2020-12-17T14:23:34.834098",
   "environment_variables": {},
   "exception": null,
   "input_path": "__notebook__.ipynb",
   "output_path": "__notebook__.ipynb",
   "parameters": {},
   "start_time": "2020-12-17T14:23:23.456161",
   "version": "2.1.0"
  }
 },
 "nbformat": 4,
 "nbformat_minor": 4
}
